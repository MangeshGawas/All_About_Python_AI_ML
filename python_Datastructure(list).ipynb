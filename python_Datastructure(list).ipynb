{
  "nbformat": 4,
  "nbformat_minor": 0,
  "metadata": {
    "colab": {
      "provenance": [],
      "authorship_tag": "ABX9TyPs5OQRYkGbncORHql0Xw46",
      "include_colab_link": true
    },
    "kernelspec": {
      "name": "python3",
      "display_name": "Python 3"
    },
    "language_info": {
      "name": "python"
    }
  },
  "cells": [
    {
      "cell_type": "markdown",
      "metadata": {
        "id": "view-in-github",
        "colab_type": "text"
      },
      "source": [
        "<a href=\"https://colab.research.google.com/github/MangeshGawas/All_About_Python_AI_ML/blob/main/python_Datastructure(list).ipynb\" target=\"_parent\"><img src=\"https://colab.research.google.com/assets/colab-badge.svg\" alt=\"Open In Colab\"/></a>"
      ]
    },
    {
      "cell_type": "markdown",
      "source": [
        "# List\n"
      ],
      "metadata": {
        "id": "-uiuwaJN9sDi"
      }
    },
    {
      "cell_type": "code",
      "source": [
        "#Do not remove the below import statement\n",
        "import sys\n",
        "\n",
        "'''This function provides the capacity, size and space left in the list.\n",
        "You can invoke it to get the details of the list'''\n",
        "\n",
        "def list_details(lst):\n",
        "    #Number of elements that can be stored in the list\n",
        "    print(\"Capacity:\", (sys.getsizeof(lst)-36)//4)\n",
        "\n",
        "    #Number of elements in the list\n",
        "    print(\"Size:\", len(lst))\n",
        "\n",
        "    #Number of elements that can be accommodated in the space left\n",
        "    print(\"Space Left:\", ((sys.getsizeof(lst)-36) - len(lst*4))//4)\n",
        "\n",
        "    #formula changes based on the system architecture\n",
        "    #(size-36)/4 for 32 bit machines and\n",
        "    #(size-64)/8 for 64 bit machines\n",
        "\n",
        "    # 36, 64 - size of an empty list based on machine\n",
        "    # 4, 8 - size of a single element in the list based on machine\n",
        "\n",
        "marias_lst=[\"Tomato\",\"Toothpaste\"]\n",
        "print(\"Empty list created!!!\")\n",
        "print(\"List details:\")\n",
        "list_details(marias_lst)"
      ],
      "metadata": {
        "colab": {
          "base_uri": "https://localhost:8080/"
        },
        "id": "TKn1qKC49uL9",
        "outputId": "a61df3cf-5b22-4cd0-84c5-1c429f7394bd"
      },
      "execution_count": 2,
      "outputs": [
        {
          "output_type": "stream",
          "name": "stdout",
          "text": [
            "Empty list created!!!\n",
            "List details:\n",
            "Capacity: 9\n",
            "Size: 2\n",
            "Space Left: 7\n"
          ]
        }
      ]
    },
    {
      "cell_type": "markdown",
      "source": [],
      "metadata": {
        "id": "79hBuHlI-Qp0"
      }
    }
  ]
}