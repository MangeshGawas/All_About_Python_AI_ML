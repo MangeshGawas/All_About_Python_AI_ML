{
  "nbformat": 4,
  "nbformat_minor": 0,
  "metadata": {
    "colab": {
      "provenance": [],
      "authorship_tag": "ABX9TyOm/3AlRH+38kfruOl+GSJw",
      "include_colab_link": true
    },
    "kernelspec": {
      "name": "python3",
      "display_name": "Python 3"
    },
    "language_info": {
      "name": "python"
    }
  },
  "cells": [
    {
      "cell_type": "markdown",
      "metadata": {
        "id": "view-in-github",
        "colab_type": "text"
      },
      "source": [
        "<a href=\"https://colab.research.google.com/github/MangeshGawas/All_About_Python_AI_ML/blob/main/python_Datastructure(list).ipynb\" target=\"_parent\"><img src=\"https://colab.research.google.com/assets/colab-badge.svg\" alt=\"Open In Colab\"/></a>"
      ]
    },
    {
      "cell_type": "markdown",
      "source": [
        "# List\n"
      ],
      "metadata": {
        "id": "-uiuwaJN9sDi"
      }
    },
    {
      "cell_type": "code",
      "source": [
        "#Do not remove the below import statement\n",
        "import sys\n",
        "\n",
        "'''This function provides the capacity, size and space left in the list.\n",
        "You can invoke it to get the details of the list'''\n",
        "\n",
        "def list_details(lst):\n",
        "    #Number of elements that can be stored in the list\n",
        "    print(\"Capacity:\", (sys.getsizeof(lst)-36)//4)\n",
        "\n",
        "    #Number of elements in the list\n",
        "    print(\"Size:\", len(lst))\n",
        "\n",
        "    #Number of elements that can be accommodated in the space left\n",
        "    print(\"Space Left:\", ((sys.getsizeof(lst)-36) - len(lst*4))//4)\n",
        "\n",
        "    #formula changes based on the system architecture\n",
        "    #(size-36)/4 for 32 bit machines and\n",
        "    #(size-64)/8 for 64 bit machines\n",
        "\n",
        "    # 36, 64 - size of an empty list based on machine\n",
        "    # 4, 8 - size of a single element in the list based on machine\n",
        "\n",
        "marias_lst=[]\n",
        "print(\"Empty list created!!!\")\n",
        "print(\"List details:\")\n",
        "list_details(marias_lst)\n",
        "print(\"________________________\")\n",
        "marias_lst.append(\"Sugar\")\n",
        "print(\"Maria List after adding sugar:\")\n",
        "print(marias_lst)\n",
        "print(\"List details:\")\n",
        "list_details(marias_lst)\n",
        "\n",
        "marias_lst.append(\"Tea Bags\")\n",
        "marias_lst.append(\"Milk\")\n",
        "marias_lst.append(\"Biscuit\")\n",
        "\n",
        "print(marias_lst)\n",
        "\n",
        "#I need to add Salt at position 1\n",
        "marias_lst.insert(1,\"Salt\")\n",
        "print(marias_lst)\n",
        "print(\"List details:\")\n",
        "list_details(marias_lst)\n",
        "\n",
        "marias_lst.pop(1)\n",
        "print(marias_lst)\n",
        "print(\"List details:\")\n",
        "list_details(marias_lst)\n"
      ],
      "metadata": {
        "colab": {
          "base_uri": "https://localhost:8080/"
        },
        "id": "TKn1qKC49uL9",
        "outputId": "4eba9872-83b5-4d61-ac01-55936ea7b634"
      },
      "execution_count": 1,
      "outputs": [
        {
          "output_type": "stream",
          "name": "stdout",
          "text": [
            "Empty list created!!!\n",
            "List details:\n",
            "Capacity: 5\n",
            "Size: 0\n",
            "Space Left: 5\n",
            "________________________\n",
            "Maria List after adding sugar:\n",
            "['Sugar']\n",
            "List details:\n",
            "Capacity: 13\n",
            "Size: 1\n",
            "Space Left: 12\n",
            "['Sugar', 'Tea Bags', 'Milk', 'Biscuit']\n",
            "['Sugar', 'Salt', 'Tea Bags', 'Milk', 'Biscuit']\n",
            "List details:\n",
            "Capacity: 21\n",
            "Size: 5\n",
            "Space Left: 16\n",
            "['Sugar', 'Tea Bags', 'Milk', 'Biscuit']\n",
            "List details:\n",
            "Capacity: 21\n",
            "Size: 4\n",
            "Space Left: 17\n"
          ]
        }
      ]
    },
    {
      "cell_type": "markdown",
      "source": [
        "# Problem Statement for self study\n"
      ],
      "metadata": {
        "id": "79hBuHlI-Qp0"
      }
    },
    {
      "cell_type": "code",
      "source": [
        "class Employee:\n",
        "    def __init__(self, name, emp_id, email_id):\n",
        "        self.__name=name\n",
        "        self.__emp_id=emp_id\n",
        "        self.__email_id=email_id\n",
        "\n",
        "    def get_name(self):\n",
        "        return self.__name\n",
        "\n",
        "    def get_emp_id(self):\n",
        "        return self.__emp_id\n",
        "\n",
        "    def get_email_id(self):\n",
        "        return self.__email_id\n",
        "\n",
        "class OrganizationDirectory:\n",
        "    def __init__(self,emp_list):\n",
        "        self.__emp_list=emp_list\n",
        "\n",
        "    def lookup(self,key_name):\n",
        "        result_list=[]\n",
        "        for emp in self.__emp_list:\n",
        "            if(key_name in emp.get_name()):\n",
        "                result_list.append(emp)\n",
        "        self.display(result_list)\n",
        "        return result_list\n",
        "\n",
        "    def display(self,result_list):\n",
        "        print(\"Search results:\")\n",
        "        for emp in result_list:\n",
        "            print(emp.get_name(),\" \", emp.get_emp_id(),\" \",emp.get_email_id())\n",
        "\n",
        "\n",
        "\n",
        "emp1=Employee(\"Kevin\",24089, \"Kevin_xyz@organization.com\")\n",
        "emp2=Employee(\"Jack\",56789,\"Jack_xyz@organization.com\")\n",
        "emp3=Employee(\"Jackson\",67895,\"Jackson_xyz@organization.com\")\n",
        "emp4=Employee(\"Henry Jack\",23456,\"Jacky_xyz@organization.com\")\n",
        "emp_list=[emp1,emp2,emp3,emp4]\n",
        "\n",
        "org_dir=OrganizationDirectory(emp_list)\n",
        "#Search for an employee\n",
        "org_dir.lookup(\"Kevin\")"
      ],
      "metadata": {
        "colab": {
          "base_uri": "https://localhost:8080/"
        },
        "id": "ZLL8tABaCQnT",
        "outputId": "30084388-9ea3-420f-d99e-421ed6aa53ca"
      },
      "execution_count": 10,
      "outputs": [
        {
          "output_type": "stream",
          "name": "stdout",
          "text": [
            "Search results:\n",
            "Kevin   24089   Kevin_xyz@organization.com\n"
          ]
        },
        {
          "output_type": "execute_result",
          "data": {
            "text/plain": [
              "[<__main__.Employee at 0x7cc5d5042ef0>]"
            ]
          },
          "metadata": {},
          "execution_count": 10
        }
      ]
    },
    {
      "cell_type": "code",
      "source": [
        "#lex_auth_012742471863279616506\n",
        "\n",
        "def update_mark_list(mark_list, new_element, pos):\n",
        "    #Write your logic here\n",
        "    mark_list.insert(new_element,pos)\n",
        "    return mark_list\n",
        "\n",
        "def find_mark(mark_list,pos1,pos2):\n",
        "    '''Remove pass and write your logic here to return a list containing\n",
        "    the marks at pos1 and pos2 respectively.'''\n",
        "\n",
        "    print(mark_list[pos1])\n",
        "    print(mark_list[pos2])\n",
        "\n",
        "#Provide different values for the variables and test your program\n",
        "mark_list=[89,78,99,76,77,72,88,99]\n",
        "new_element=69\n",
        "pos=2\n",
        "pos1=5\n",
        "pos2=8\n",
        "print(update_mark_list(mark_list, new_element, pos))\n",
        "print(find_mark(mark_list, pos1, pos2))"
      ],
      "metadata": {
        "colab": {
          "base_uri": "https://localhost:8080/"
        },
        "id": "tUbyd-O1FAGa",
        "outputId": "85eb8e9c-7067-441e-e79f-b8eb83dbf378"
      },
      "execution_count": 11,
      "outputs": [
        {
          "output_type": "stream",
          "name": "stdout",
          "text": [
            "[89, 78, 99, 76, 77, 72, 88, 99, 2]\n",
            "72\n",
            "2\n",
            "None\n"
          ]
        }
      ]
    }
  ]
}