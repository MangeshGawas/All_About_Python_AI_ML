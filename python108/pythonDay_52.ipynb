{
 "cells": [
  {
   "cell_type": "markdown",
   "id": "1209ad8c-14c1-49f5-a03e-1726f3e6ac3c",
   "metadata": {},
   "source": [
    "# Python Tutorial\n",
    "## For Machine learning requirements"
   ]
  },
  {
   "cell_type": "markdown",
   "id": "394cc143-a6e3-4c85-8eed-4247f3b8f82d",
   "metadata": {},
   "source": [
    "## datatype"
   ]
  },
  {
   "cell_type": "code",
   "execution_count": 2,
   "id": "12b4c0b2-df3f-466a-a342-d27f06160d66",
   "metadata": {},
   "outputs": [
    {
     "data": {
      "text/plain": [
       "2"
      ]
     },
     "execution_count": 2,
     "metadata": {},
     "output_type": "execute_result"
    }
   ],
   "source": [
    "1+1"
   ]
  },
  {
   "cell_type": "code",
   "execution_count": 4,
   "id": "3162a27f-59e6-442f-a5bc-67bb8ae35bfe",
   "metadata": {},
   "outputs": [
    {
     "data": {
      "text/plain": [
       "1"
      ]
     },
     "execution_count": 4,
     "metadata": {},
     "output_type": "execute_result"
    }
   ],
   "source": [
    "2-1"
   ]
  },
  {
   "cell_type": "code",
   "execution_count": 6,
   "id": "a1e3e0c2-6938-48a8-b41c-1890a654c355",
   "metadata": {},
   "outputs": [
    {
     "data": {
      "text/plain": [
       "6"
      ]
     },
     "execution_count": 6,
     "metadata": {},
     "output_type": "execute_result"
    }
   ],
   "source": [
    "3*2"
   ]
  },
  {
   "cell_type": "code",
   "execution_count": 8,
   "id": "a517dac0-b79e-494d-a303-d4ba284734c6",
   "metadata": {},
   "outputs": [
    {
     "data": {
      "text/plain": [
       "5.0"
      ]
     },
     "execution_count": 8,
     "metadata": {},
     "output_type": "execute_result"
    }
   ],
   "source": [
    "10/2"
   ]
  },
  {
   "cell_type": "code",
   "execution_count": 11,
   "id": "24378623-ee63-4d71-9564-f442b443a253",
   "metadata": {},
   "outputs": [
    {
     "data": {
      "text/plain": [
       "0"
      ]
     },
     "execution_count": 11,
     "metadata": {},
     "output_type": "execute_result"
    }
   ],
   "source": [
    "10%2"
   ]
  },
  {
   "cell_type": "code",
   "execution_count": 13,
   "id": "e54c1dfd-a7e3-4818-a775-ea9cf7a5e99c",
   "metadata": {},
   "outputs": [
    {
     "data": {
      "text/plain": [
       "9"
      ]
     },
     "execution_count": 13,
     "metadata": {},
     "output_type": "execute_result"
    }
   ],
   "source": [
    "3**2"
   ]
  },
  {
   "cell_type": "markdown",
   "id": "7d562d9d-2b7e-4584-9572-134766d3fd8f",
   "metadata": {},
   "source": [
    "## check the datatype"
   ]
  },
  {
   "cell_type": "code",
   "execution_count": 15,
   "id": "c6af60d3-3ff8-4029-acc0-95ec139619fb",
   "metadata": {},
   "outputs": [
    {
     "data": {
      "text/plain": [
       "bool"
      ]
     },
     "execution_count": 15,
     "metadata": {},
     "output_type": "execute_result"
    }
   ],
   "source": [
    "type(True)"
   ]
  },
  {
   "cell_type": "code",
   "execution_count": 17,
   "id": "987b38f1-c70c-46d6-bd84-c02c20dceedd",
   "metadata": {},
   "outputs": [
    {
     "data": {
      "text/plain": [
       "str"
      ]
     },
     "execution_count": 17,
     "metadata": {},
     "output_type": "execute_result"
    }
   ],
   "source": [
    "type(\"String\")"
   ]
  },
  {
   "cell_type": "markdown",
   "id": "37a08d61-6fea-47e6-8e53-4acb5000bcee",
   "metadata": {},
   "source": [
    "## Variable Assignment"
   ]
  },
  {
   "cell_type": "code",
   "execution_count": 18,
   "id": "70f12045-d90a-4836-98ce-14be7431200a",
   "metadata": {},
   "outputs": [],
   "source": [
    "a = 10"
   ]
  },
  {
   "cell_type": "code",
   "execution_count": 20,
   "id": "d76337f0-ca88-4bf7-9b51-74fcb1ce61ec",
   "metadata": {},
   "outputs": [
    {
     "data": {
      "text/plain": [
       "int"
      ]
     },
     "execution_count": 20,
     "metadata": {},
     "output_type": "execute_result"
    }
   ],
   "source": [
    "type(a)"
   ]
  },
  {
   "cell_type": "code",
   "execution_count": 22,
   "id": "a0388d0e-247f-4ada-9f4e-58597fb4b0f2",
   "metadata": {},
   "outputs": [],
   "source": [
    "b =\"hello world\""
   ]
  },
  {
   "cell_type": "code",
   "execution_count": 24,
   "id": "bd21dbdd-be46-40c1-9c15-cbfbbc740eaa",
   "metadata": {},
   "outputs": [
    {
     "data": {
      "text/plain": [
       "str"
      ]
     },
     "execution_count": 24,
     "metadata": {},
     "output_type": "execute_result"
    }
   ],
   "source": [
    "type(b)"
   ]
  },
  {
   "cell_type": "code",
   "execution_count": 25,
   "id": "134a2188-815a-47e8-87fa-601431a70d30",
   "metadata": {},
   "outputs": [],
   "source": [
    "a=10\n",
    "b=20"
   ]
  },
  {
   "cell_type": "code",
   "execution_count": 27,
   "id": "cefde5a7-c174-4a36-95d9-8934fcd21dd9",
   "metadata": {},
   "outputs": [
    {
     "name": "stdout",
     "output_type": "stream",
     "text": [
      "30\n",
      "-10\n",
      "0.5\n",
      "200\n"
     ]
    }
   ],
   "source": [
    "print(a+b)\n",
    "print(a-b)\n",
    "print(a/b)\n",
    "print(a*b)"
   ]
  },
  {
   "cell_type": "markdown",
   "id": "d701e984-4813-4359-bca4-2aacfd48644c",
   "metadata": {},
   "source": [
    "## various type of printing method"
   ]
  },
  {
   "cell_type": "code",
   "execution_count": 29,
   "id": "aade37ca-50d3-4c30-8c53-5cff5cc774c4",
   "metadata": {},
   "outputs": [
    {
     "name": "stdout",
     "output_type": "stream",
     "text": [
      "Hello world\n"
     ]
    }
   ],
   "source": [
    "print(\"Hello world\")"
   ]
  },
  {
   "cell_type": "code",
   "execution_count": 30,
   "id": "aa30edce-02ea-41d6-ab7f-f5f92547bef8",
   "metadata": {},
   "outputs": [],
   "source": [
    "name1= \"tom\"\n",
    "name2=\"jerry\"\n"
   ]
  },
  {
   "cell_type": "code",
   "execution_count": 31,
   "id": "6340a308-7e76-4293-a4b6-5539b82e7a1d",
   "metadata": {},
   "outputs": [
    {
     "name": "stdout",
     "output_type": "stream",
     "text": [
      "tom is cat and jerry is mice\n"
     ]
    }
   ],
   "source": [
    "print(\"{} is cat and {} is mice\".format(name1,name2))"
   ]
  },
  {
   "cell_type": "code",
   "execution_count": 34,
   "id": "4081e347-ed32-4075-b819-3c82b68b6265",
   "metadata": {},
   "outputs": [
    {
     "name": "stdout",
     "output_type": "stream",
     "text": [
      "jerry is mice and tom is cat\n"
     ]
    }
   ],
   "source": [
    "print(\"{mice} is mice and {cat} is cat\".format(mice = name2,cat=name1))"
   ]
  },
  {
   "cell_type": "code",
   "execution_count": 36,
   "id": "e3c2df73-156f-4e54-b273-959911008b26",
   "metadata": {},
   "outputs": [
    {
     "data": {
      "text/plain": [
       "3"
      ]
     },
     "execution_count": 36,
     "metadata": {},
     "output_type": "execute_result"
    }
   ],
   "source": [
    "len(name1)"
   ]
  },
  {
   "cell_type": "code",
   "execution_count": null,
   "id": "72f12ab2-0cb5-4e81-b197-014f61e17efd",
   "metadata": {},
   "outputs": [],
   "source": []
  }
 ],
 "metadata": {
  "kernelspec": {
   "display_name": "Python 3 (ipykernel)",
   "language": "python",
   "name": "python3"
  },
  "language_info": {
   "codemirror_mode": {
    "name": "ipython",
    "version": 3
   },
   "file_extension": ".py",
   "mimetype": "text/x-python",
   "name": "python",
   "nbconvert_exporter": "python",
   "pygments_lexer": "ipython3",
   "version": "3.11.7"
  }
 },
 "nbformat": 4,
 "nbformat_minor": 5
}
