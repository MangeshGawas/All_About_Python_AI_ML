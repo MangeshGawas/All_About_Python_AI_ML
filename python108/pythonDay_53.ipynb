{
 "cells": [
  {
   "cell_type": "markdown",
   "id": "af8783f4-b9ec-4790-a5d9-2d8165c486f7",
   "metadata": {},
   "source": [
    "### Boolean ,boolean and logical, list , comparison operation, dictonaries,tuple and sets\n"
   ]
  },
  {
   "cell_type": "code",
   "execution_count": 1,
   "id": "e1d56304-667f-4510-886a-84dd19b4c58f",
   "metadata": {},
   "outputs": [
    {
     "data": {
      "text/plain": [
       "False"
      ]
     },
     "execution_count": 1,
     "metadata": {},
     "output_type": "execute_result"
    }
   ],
   "source": [
    "bool()"
   ]
  },
  {
   "cell_type": "code",
   "execution_count": 2,
   "id": "16a569b4-2723-4b9a-9dc4-483b5336aee2",
   "metadata": {},
   "outputs": [],
   "source": [
    "my_string = \"Hello World 123\""
   ]
  },
  {
   "cell_type": "code",
   "execution_count": 3,
   "id": "eb5ee51d-42cf-4176-add1-ea7f8e19d1ac",
   "metadata": {},
   "outputs": [
    {
     "name": "stdout",
     "output_type": "stream",
     "text": [
      "False\n",
      "False\n",
      "False\n",
      "True\n",
      "False\n",
      "False\n",
      "False\n",
      "True\n"
     ]
    }
   ],
   "source": [
    "print(my_string.isalnum())\n",
    "print(my_string.isalpha())\n",
    "print(my_string.isdigit())\n",
    "print(my_string.istitle())\n",
    "print(my_string.isspace())\n",
    "print(my_string.isupper())\n",
    "print(my_string.islower())\n",
    "print(my_string.startswith('H'))"
   ]
  },
  {
   "cell_type": "markdown",
   "id": "ad0c2f2a-1ec4-4937-915f-93448e6a852c",
   "metadata": {},
   "source": [
    "# Logical Operator"
   ]
  },
  {
   "cell_type": "code",
   "execution_count": 4,
   "id": "3f4af0e3-4eb3-43c6-84b2-294849966711",
   "metadata": {},
   "outputs": [
    {
     "data": {
      "text/plain": [
       "True"
      ]
     },
     "execution_count": 4,
     "metadata": {},
     "output_type": "execute_result"
    }
   ],
   "source": [
    "True and True"
   ]
  },
  {
   "cell_type": "code",
   "execution_count": 5,
   "id": "91cf0e2a-253e-48c1-9b5d-8ec3be15d2b0",
   "metadata": {},
   "outputs": [
    {
     "data": {
      "text/plain": [
       "True"
      ]
     },
     "execution_count": 5,
     "metadata": {},
     "output_type": "execute_result"
    }
   ],
   "source": [
    "True or False"
   ]
  },
  {
   "cell_type": "code",
   "execution_count": 6,
   "id": "46e26e93-8742-47b7-9260-a4a139633042",
   "metadata": {},
   "outputs": [
    {
     "data": {
      "text/plain": [
       "False"
      ]
     },
     "execution_count": 6,
     "metadata": {},
     "output_type": "execute_result"
    }
   ],
   "source": [
    "False and True"
   ]
  },
  {
   "cell_type": "markdown",
   "id": "6c85a957-209c-4aa7-a67d-7e5db8e47891",
   "metadata": {},
   "source": [
    "# List"
   ]
  },
  {
   "cell_type": "code",
   "execution_count": 7,
   "id": "906d51ba-a6e7-45ab-a12a-714c898e465b",
   "metadata": {},
   "outputs": [],
   "source": [
    "lst = []"
   ]
  },
  {
   "cell_type": "code",
   "execution_count": 8,
   "id": "c37d2e2c-b465-4a47-82eb-9f3ccbe68bf9",
   "metadata": {},
   "outputs": [
    {
     "data": {
      "text/plain": [
       "list"
      ]
     },
     "execution_count": 8,
     "metadata": {},
     "output_type": "execute_result"
    }
   ],
   "source": [
    "type(lst)"
   ]
  },
  {
   "cell_type": "code",
   "execution_count": 9,
   "id": "46cafbac-5573-4a50-9670-3207f961a68c",
   "metadata": {},
   "outputs": [],
   "source": [
    "lst1 = list()"
   ]
  },
  {
   "cell_type": "code",
   "execution_count": 10,
   "id": "1127ed22-2284-4a8f-9ef5-d75ea8d8010a",
   "metadata": {},
   "outputs": [
    {
     "data": {
      "text/plain": [
       "list"
      ]
     },
     "execution_count": 10,
     "metadata": {},
     "output_type": "execute_result"
    }
   ],
   "source": [
    "type(lst1)"
   ]
  },
  {
   "cell_type": "code",
   "execution_count": 11,
   "id": "65dce0d7-e7b4-460b-9c8e-73acd8900726",
   "metadata": {},
   "outputs": [],
   "source": [
    "list1 = ['Maths', 'physic',1,2,3]"
   ]
  },
  {
   "cell_type": "code",
   "execution_count": 12,
   "id": "f37aeadb-26bc-47e8-9be2-61adb13c44eb",
   "metadata": {},
   "outputs": [
    {
     "data": {
      "text/plain": [
       "5"
      ]
     },
     "execution_count": 12,
     "metadata": {},
     "output_type": "execute_result"
    }
   ],
   "source": [
    "len(list1)"
   ]
  },
  {
   "cell_type": "markdown",
   "id": "de553644-524e-4b2e-814d-29520ac2f41a",
   "metadata": {},
   "source": [
    "## append\n",
    "## insert"
   ]
  },
  {
   "cell_type": "code",
   "execution_count": 13,
   "id": "23af2d0e-c4c8-4f39-a698-1585918fdf18",
   "metadata": {},
   "outputs": [
    {
     "data": {
      "text/plain": [
       "['Biology']"
      ]
     },
     "execution_count": 13,
     "metadata": {},
     "output_type": "execute_result"
    }
   ],
   "source": [
    "lst.append('Biology')\n",
    "lst\n"
   ]
  },
  {
   "cell_type": "code",
   "execution_count": 14,
   "id": "a28373ad-768e-4822-b1b7-051c542468d8",
   "metadata": {},
   "outputs": [
    {
     "data": {
      "text/plain": [
       "'Biology'"
      ]
     },
     "execution_count": 14,
     "metadata": {},
     "output_type": "execute_result"
    }
   ],
   "source": [
    "lst[0]"
   ]
  },
  {
   "cell_type": "code",
   "execution_count": 15,
   "id": "988da383-417e-4f3d-9e5a-2745a91bbd95",
   "metadata": {},
   "outputs": [
    {
     "data": {
      "text/plain": [
       "['physic', 1, 2, 3]"
      ]
     },
     "execution_count": 15,
     "metadata": {},
     "output_type": "execute_result"
    }
   ],
   "source": [
    "list1[1:]"
   ]
  },
  {
   "cell_type": "code",
   "execution_count": 16,
   "id": "3d799ca2-0187-49b0-9d54-313c65241082",
   "metadata": {},
   "outputs": [],
   "source": [
    "list1.insert(1,\"Biology\")"
   ]
  },
  {
   "cell_type": "code",
   "execution_count": 17,
   "id": "f8d5fa03-40ea-414e-b088-099c688d52a0",
   "metadata": {},
   "outputs": [
    {
     "data": {
      "text/plain": [
       "['Maths', 'Biology', 'physic', 1, 2, 3]"
      ]
     },
     "execution_count": 17,
     "metadata": {},
     "output_type": "execute_result"
    }
   ],
   "source": [
    "list1"
   ]
  },
  {
   "cell_type": "code",
   "execution_count": 18,
   "id": "4cb28019-ae85-462f-9242-7a1287017514",
   "metadata": {},
   "outputs": [
    {
     "data": {
      "text/plain": [
       "['Maths', 'Biology', 'physic', 1, 2, 3, ['history', 'sociology']]"
      ]
     },
     "execution_count": 18,
     "metadata": {},
     "output_type": "execute_result"
    }
   ],
   "source": [
    "list1.append(['history','sociology'])\n",
    "list1"
   ]
  },
  {
   "cell_type": "code",
   "execution_count": 19,
   "id": "432dd558-ad2e-422a-8ff4-ea8aa1488761",
   "metadata": {},
   "outputs": [
    {
     "data": {
      "text/plain": [
       "['Maths',\n",
       " 'Biology',\n",
       " 'physic',\n",
       " 1,\n",
       " 2,\n",
       " 3,\n",
       " ['history', 'sociology'],\n",
       " 'chemistry',\n",
       " 'algebra']"
      ]
     },
     "execution_count": 19,
     "metadata": {},
     "output_type": "execute_result"
    }
   ],
   "source": [
    "list1.extend(['chemistry', 'algebra'])\n",
    "list1"
   ]
  },
  {
   "cell_type": "code",
   "execution_count": 20,
   "id": "5826f899-0c71-4314-8d50-2cb3ed937eec",
   "metadata": {},
   "outputs": [
    {
     "data": {
      "text/plain": [
       "['Biology', 'physic', 1]"
      ]
     },
     "execution_count": 20,
     "metadata": {},
     "output_type": "execute_result"
    }
   ],
   "source": [
    "list1[1:4]"
   ]
  },
  {
   "cell_type": "code",
   "execution_count": 21,
   "id": "93556218-e4ad-42da-bd3a-71aa4d2f9f96",
   "metadata": {},
   "outputs": [
    {
     "data": {
      "text/plain": [
       "10"
      ]
     },
     "execution_count": 21,
     "metadata": {},
     "output_type": "execute_result"
    }
   ],
   "source": [
    "lst2 =[1,2,3,4]\n",
    "sum(lst2)"
   ]
  },
  {
   "cell_type": "code",
   "execution_count": 22,
   "id": "a47f01a8-89dd-45a2-801a-98ec88017ade",
   "metadata": {},
   "outputs": [
    {
     "data": {
      "text/plain": [
       "4"
      ]
     },
     "execution_count": 22,
     "metadata": {},
     "output_type": "execute_result"
    }
   ],
   "source": [
    "lst2.pop()"
   ]
  },
  {
   "cell_type": "code",
   "execution_count": 23,
   "id": "100aa494-2a66-4380-8b1c-0f2eec9fb7a9",
   "metadata": {},
   "outputs": [
    {
     "data": {
      "text/plain": [
       "1"
      ]
     },
     "execution_count": 23,
     "metadata": {},
     "output_type": "execute_result"
    }
   ],
   "source": [
    "lst2.pop(0)"
   ]
  },
  {
   "cell_type": "code",
   "execution_count": 24,
   "id": "ffd7126c-fd66-490b-8adc-9425f66612d9",
   "metadata": {},
   "outputs": [
    {
     "data": {
      "text/plain": [
       "[2, 3]"
      ]
     },
     "execution_count": 24,
     "metadata": {},
     "output_type": "execute_result"
    }
   ],
   "source": [
    "lst2"
   ]
  },
  {
   "cell_type": "code",
   "execution_count": 28,
   "id": "dc767720-24d8-4c7e-9da1-c12acced5df4",
   "metadata": {},
   "outputs": [],
   "source": [
    "lst3=[1,1,2,3,4,5,6,7,8,9]\n"
   ]
  },
  {
   "cell_type": "code",
   "execution_count": 29,
   "id": "2de262f3-7223-4040-b2e8-c41c4d1f0e06",
   "metadata": {},
   "outputs": [
    {
     "data": {
      "text/plain": [
       "2"
      ]
     },
     "execution_count": 29,
     "metadata": {},
     "output_type": "execute_result"
    }
   ],
   "source": [
    "lst3.count(1)"
   ]
  },
  {
   "cell_type": "code",
   "execution_count": 30,
   "id": "c1163ee8-38dc-427a-a336-120b6b004d4e",
   "metadata": {},
   "outputs": [
    {
     "data": {
      "text/plain": [
       "3"
      ]
     },
     "execution_count": 30,
     "metadata": {},
     "output_type": "execute_result"
    }
   ],
   "source": [
    "lst3.index(3)"
   ]
  },
  {
   "cell_type": "code",
   "execution_count": 31,
   "id": "edf04d6f-369c-4db3-bda9-d7e098980fb7",
   "metadata": {},
   "outputs": [
    {
     "data": {
      "text/plain": [
       "1"
      ]
     },
     "execution_count": 31,
     "metadata": {},
     "output_type": "execute_result"
    }
   ],
   "source": [
    "min(lst3)"
   ]
  },
  {
   "cell_type": "code",
   "execution_count": 32,
   "id": "e0084468-ee22-4b3b-b9fd-34250afea23a",
   "metadata": {},
   "outputs": [
    {
     "data": {
      "text/plain": [
       "9"
      ]
     },
     "execution_count": 32,
     "metadata": {},
     "output_type": "execute_result"
    }
   ],
   "source": [
    "max(lst3)"
   ]
  },
  {
   "cell_type": "markdown",
   "id": "bb3e2629-f66d-4070-9cbb-cc4514113be5",
   "metadata": {},
   "source": [
    "# Set"
   ]
  },
  {
   "cell_type": "code",
   "execution_count": 33,
   "id": "92cc2908-0d9a-4fca-88a5-fff587765052",
   "metadata": {},
   "outputs": [
    {
     "name": "stdout",
     "output_type": "stream",
     "text": [
      "<class 'set'>\n"
     ]
    }
   ],
   "source": [
    "set_var = set()\n",
    "print(type(set_var))"
   ]
  },
  {
   "cell_type": "code",
   "execution_count": 34,
   "id": "0103ea39-d126-4b25-8f32-9133db476033",
   "metadata": {},
   "outputs": [
    {
     "name": "stdout",
     "output_type": "stream",
     "text": [
      "{1, 2, 3, 23}\n"
     ]
    }
   ],
   "source": [
    "set_var = {1,23,1,2,3}\n",
    "print(set_var)"
   ]
  },
  {
   "cell_type": "code",
   "execution_count": 39,
   "id": "4113e1d4-ae54-47a6-b728-223d2fc87acd",
   "metadata": {},
   "outputs": [],
   "source": [
    "#inbuilt function\n",
    "#indexing is not allowed\n",
    "set_var = {'batman','antman', 'hulk'}\n",
    "set_var1 = {'batman','antman', 'hulk','ironman'}\n",
    "set_var.add('hitman')"
   ]
  },
  {
   "cell_type": "code",
   "execution_count": 40,
   "id": "3da5b0d0-f2ad-4e40-a46f-47c2ca676ba3",
   "metadata": {},
   "outputs": [
    {
     "name": "stdout",
     "output_type": "stream",
     "text": [
      "{'batman', 'hitman', 'antman', 'hulk'}\n"
     ]
    }
   ],
   "source": [
    "print(set_var)"
   ]
  },
  {
   "cell_type": "code",
   "execution_count": 41,
   "id": "a6cc7ae0-2fa3-4e5a-824a-8626c34d402c",
   "metadata": {},
   "outputs": [
    {
     "data": {
      "text/plain": [
       "{'ironman'}"
      ]
     },
     "execution_count": 41,
     "metadata": {},
     "output_type": "execute_result"
    }
   ],
   "source": [
    "set_var1.difference(set_var)"
   ]
  },
  {
   "cell_type": "code",
   "execution_count": 42,
   "id": "69f57d11-1edd-4be6-b07a-c66589ed1392",
   "metadata": {},
   "outputs": [
    {
     "data": {
      "text/plain": [
       "{'antman', 'batman', 'hulk'}"
      ]
     },
     "execution_count": 42,
     "metadata": {},
     "output_type": "execute_result"
    }
   ],
   "source": [
    "set_var1.intersection(set_var)"
   ]
  },
  {
   "cell_type": "markdown",
   "id": "d7ea11fa-bdd1-43d7-808a-e45c8e10a3ab",
   "metadata": {},
   "source": [
    "# Dictionary\n"
   ]
  },
  {
   "cell_type": "code",
   "execution_count": 43,
   "id": "bc5523ca-3c5c-4ffd-9d88-9aa7b42f4fc9",
   "metadata": {},
   "outputs": [
    {
     "data": {
      "text/plain": [
       "dict"
      ]
     },
     "execution_count": 43,
     "metadata": {},
     "output_type": "execute_result"
    }
   ],
   "source": [
    "dic = {}\n",
    "type(dic)"
   ]
  },
  {
   "cell_type": "code",
   "execution_count": 44,
   "id": "cd121da8-3b52-4109-ada3-0617e4b7a55f",
   "metadata": {},
   "outputs": [],
   "source": [
    "dict = {'car1':'bmw','car2':'audi','car3':'toyoto'}"
   ]
  },
  {
   "cell_type": "code",
   "execution_count": 46,
   "id": "e9ec93cd-4931-4959-930e-ae4f482cab31",
   "metadata": {},
   "outputs": [
    {
     "data": {
      "text/plain": [
       "'bmw'"
      ]
     },
     "execution_count": 46,
     "metadata": {},
     "output_type": "execute_result"
    }
   ],
   "source": [
    "dict['car1']"
   ]
  },
  {
   "cell_type": "code",
   "execution_count": 47,
   "id": "68add1ea-01a9-4e96-9c7f-1eeec2c9059f",
   "metadata": {},
   "outputs": [
    {
     "name": "stdout",
     "output_type": "stream",
     "text": [
      "car1\n",
      "car2\n",
      "car3\n"
     ]
    }
   ],
   "source": [
    "for x in dict:\n",
    "    print(x)"
   ]
  },
  {
   "cell_type": "code",
   "execution_count": 49,
   "id": "b598fa29-dde3-4716-8e3c-41b4e57cdcc2",
   "metadata": {},
   "outputs": [
    {
     "name": "stdout",
     "output_type": "stream",
     "text": [
      "('car1', 'bmw')\n",
      "('car2', 'audi')\n",
      "('car3', 'toyoto')\n"
     ]
    }
   ],
   "source": [
    "for x in dict.items():\n",
    "    print(x)"
   ]
  },
  {
   "cell_type": "code",
   "execution_count": 50,
   "id": "1a0f2c9f-6a2d-473f-9779-f493bb15a38f",
   "metadata": {},
   "outputs": [
    {
     "name": "stdout",
     "output_type": "stream",
     "text": [
      "bmw\n",
      "audi\n",
      "toyoto\n"
     ]
    }
   ],
   "source": [
    "for x in dict.values():\n",
    "    print(x)"
   ]
  },
  {
   "cell_type": "code",
   "execution_count": 51,
   "id": "f4cbea2a-ad9e-4c5a-a6a2-89188240fe41",
   "metadata": {},
   "outputs": [
    {
     "name": "stdout",
     "output_type": "stream",
     "text": [
      "car1\n",
      "car2\n",
      "car3\n"
     ]
    }
   ],
   "source": [
    "for x in dict.keys():\n",
    "    print(x)"
   ]
  },
  {
   "cell_type": "code",
   "execution_count": 53,
   "id": "af77cb09-334b-4d50-90cf-2694d5779f46",
   "metadata": {},
   "outputs": [],
   "source": [
    "dict['car4']= \"swift\""
   ]
  },
  {
   "cell_type": "code",
   "execution_count": 54,
   "id": "09857019-b104-46de-8ed6-0303eb8b1129",
   "metadata": {},
   "outputs": [
    {
     "data": {
      "text/plain": [
       "{'car1': 'bmw', 'car2': 'audi', 'car3': 'toyoto', 'car4': 'swift'}"
      ]
     },
     "execution_count": 54,
     "metadata": {},
     "output_type": "execute_result"
    }
   ],
   "source": [
    "dict"
   ]
  },
  {
   "cell_type": "code",
   "execution_count": 56,
   "id": "b8eb360b-643b-4208-b1d9-e3c1b32647db",
   "metadata": {},
   "outputs": [],
   "source": [
    "dict['car4']= \"Baleno\""
   ]
  },
  {
   "cell_type": "code",
   "execution_count": 57,
   "id": "200cc584-809d-4c3d-9ea9-fb8b3fcd84b7",
   "metadata": {},
   "outputs": [
    {
     "data": {
      "text/plain": [
       "{'car1': 'bmw', 'car2': 'audi', 'car3': 'toyoto', 'car4': 'Baleno'}"
      ]
     },
     "execution_count": 57,
     "metadata": {},
     "output_type": "execute_result"
    }
   ],
   "source": [
    "dict"
   ]
  },
  {
   "cell_type": "markdown",
   "id": "07d9d48b-1152-4065-9550-e3bf93e06df1",
   "metadata": {},
   "source": [
    "# tuple\n"
   ]
  },
  {
   "cell_type": "code",
   "execution_count": 59,
   "id": "2f66d994-b545-4352-9df9-c1955a2066ec",
   "metadata": {},
   "outputs": [
    {
     "data": {
      "text/plain": [
       "tuple"
      ]
     },
     "execution_count": 59,
     "metadata": {},
     "output_type": "execute_result"
    }
   ],
   "source": [
    "my_tuple = ()\n",
    "type(my_tuple)"
   ]
  },
  {
   "cell_type": "code",
   "execution_count": 64,
   "id": "39c44bd9-cc1f-4279-8667-c4de49511a5d",
   "metadata": {},
   "outputs": [],
   "source": [
    "my_tuple = ('Marvel','universe','Thor')"
   ]
  },
  {
   "cell_type": "code",
   "execution_count": 65,
   "id": "906b2be6-26da-4f24-a866-1690f5183111",
   "metadata": {},
   "outputs": [],
   "source": [
    "my_tuple = (\"hello\",\"world\")"
   ]
  },
  {
   "cell_type": "code",
   "execution_count": 67,
   "id": "925d2a86-4ece-4cde-b483-c2bbd2a11c8a",
   "metadata": {},
   "outputs": [
    {
     "data": {
      "text/plain": [
       "1"
      ]
     },
     "execution_count": 67,
     "metadata": {},
     "output_type": "execute_result"
    }
   ],
   "source": [
    "my_tuple.count('hello')\n"
   ]
  },
  {
   "cell_type": "code",
   "execution_count": 68,
   "id": "82967f7b-74ef-4f63-bee4-cd97d6e061af",
   "metadata": {},
   "outputs": [
    {
     "data": {
      "text/plain": [
       "0"
      ]
     },
     "execution_count": 68,
     "metadata": {},
     "output_type": "execute_result"
    }
   ],
   "source": [
    "my_tuple.index('hello')"
   ]
  },
  {
   "cell_type": "code",
   "execution_count": null,
   "id": "8caa552c-56a5-443f-bf86-840ee7679f3c",
   "metadata": {},
   "outputs": [],
   "source": []
  }
 ],
 "metadata": {
  "kernelspec": {
   "display_name": "Python 3 (ipykernel)",
   "language": "python",
   "name": "python3"
  },
  "language_info": {
   "codemirror_mode": {
    "name": "ipython",
    "version": 3
   },
   "file_extension": ".py",
   "mimetype": "text/x-python",
   "name": "python",
   "nbconvert_exporter": "python",
   "pygments_lexer": "ipython3",
   "version": "3.11.7"
  }
 },
 "nbformat": 4,
 "nbformat_minor": 5
}
