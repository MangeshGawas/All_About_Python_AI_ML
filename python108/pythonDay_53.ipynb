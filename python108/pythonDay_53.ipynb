{
 "cells": [
  {
   "cell_type": "markdown",
   "id": "af8783f4-b9ec-4790-a5d9-2d8165c486f7",
   "metadata": {},
   "source": [
    "### Boolean ,boolean and logical, list , comparison operation, dictonaries,tuple and sets\n"
   ]
  },
  {
   "cell_type": "code",
   "execution_count": 1,
   "id": "e1d56304-667f-4510-886a-84dd19b4c58f",
   "metadata": {},
   "outputs": [
    {
     "data": {
      "text/plain": [
       "False"
      ]
     },
     "execution_count": 1,
     "metadata": {},
     "output_type": "execute_result"
    }
   ],
   "source": [
    "bool()"
   ]
  },
  {
   "cell_type": "code",
   "execution_count": 2,
   "id": "16a569b4-2723-4b9a-9dc4-483b5336aee2",
   "metadata": {},
   "outputs": [],
   "source": [
    "my_string = \"Hello World 123\""
   ]
  },
  {
   "cell_type": "code",
   "execution_count": 3,
   "id": "eb5ee51d-42cf-4176-add1-ea7f8e19d1ac",
   "metadata": {},
   "outputs": [
    {
     "name": "stdout",
     "output_type": "stream",
     "text": [
      "False\n",
      "False\n",
      "False\n",
      "True\n",
      "False\n",
      "False\n",
      "False\n",
      "True\n"
     ]
    }
   ],
   "source": [
    "print(my_string.isalnum())\n",
    "print(my_string.isalpha())\n",
    "print(my_string.isdigit())\n",
    "print(my_string.istitle())\n",
    "print(my_string.isspace())\n",
    "print(my_string.isupper())\n",
    "print(my_string.islower())\n",
    "print(my_string.startswith('H'))"
   ]
  },
  {
   "cell_type": "markdown",
   "id": "ad0c2f2a-1ec4-4937-915f-93448e6a852c",
   "metadata": {},
   "source": [
    "# Logical Operator"
   ]
  },
  {
   "cell_type": "code",
   "execution_count": 4,
   "id": "3f4af0e3-4eb3-43c6-84b2-294849966711",
   "metadata": {},
   "outputs": [
    {
     "data": {
      "text/plain": [
       "True"
      ]
     },
     "execution_count": 4,
     "metadata": {},
     "output_type": "execute_result"
    }
   ],
   "source": [
    "True and True"
   ]
  },
  {
   "cell_type": "code",
   "execution_count": 5,
   "id": "91cf0e2a-253e-48c1-9b5d-8ec3be15d2b0",
   "metadata": {},
   "outputs": [
    {
     "data": {
      "text/plain": [
       "True"
      ]
     },
     "execution_count": 5,
     "metadata": {},
     "output_type": "execute_result"
    }
   ],
   "source": [
    "True or False"
   ]
  },
  {
   "cell_type": "code",
   "execution_count": 6,
   "id": "46e26e93-8742-47b7-9260-a4a139633042",
   "metadata": {},
   "outputs": [
    {
     "data": {
      "text/plain": [
       "False"
      ]
     },
     "execution_count": 6,
     "metadata": {},
     "output_type": "execute_result"
    }
   ],
   "source": [
    "False and True"
   ]
  },
  {
   "cell_type": "markdown",
   "id": "6c85a957-209c-4aa7-a67d-7e5db8e47891",
   "metadata": {},
   "source": [
    "# List"
   ]
  },
  {
   "cell_type": "code",
   "execution_count": 7,
   "id": "906d51ba-a6e7-45ab-a12a-714c898e465b",
   "metadata": {},
   "outputs": [],
   "source": [
    "lst = []"
   ]
  },
  {
   "cell_type": "code",
   "execution_count": 8,
   "id": "c37d2e2c-b465-4a47-82eb-9f3ccbe68bf9",
   "metadata": {},
   "outputs": [
    {
     "data": {
      "text/plain": [
       "list"
      ]
     },
     "execution_count": 8,
     "metadata": {},
     "output_type": "execute_result"
    }
   ],
   "source": [
    "type(lst)"
   ]
  },
  {
   "cell_type": "code",
   "execution_count": 9,
   "id": "46cafbac-5573-4a50-9670-3207f961a68c",
   "metadata": {},
   "outputs": [],
   "source": [
    "lst1 = list()"
   ]
  },
  {
   "cell_type": "code",
   "execution_count": 10,
   "id": "1127ed22-2284-4a8f-9ef5-d75ea8d8010a",
   "metadata": {},
   "outputs": [
    {
     "data": {
      "text/plain": [
       "list"
      ]
     },
     "execution_count": 10,
     "metadata": {},
     "output_type": "execute_result"
    }
   ],
   "source": [
    "type(lst1)"
   ]
  },
  {
   "cell_type": "code",
   "execution_count": 11,
   "id": "65dce0d7-e7b4-460b-9c8e-73acd8900726",
   "metadata": {},
   "outputs": [],
   "source": [
    "list1 = ['Maths', 'physic',1,2,3]"
   ]
  },
  {
   "cell_type": "code",
   "execution_count": 12,
   "id": "f37aeadb-26bc-47e8-9be2-61adb13c44eb",
   "metadata": {},
   "outputs": [
    {
     "data": {
      "text/plain": [
       "5"
      ]
     },
     "execution_count": 12,
     "metadata": {},
     "output_type": "execute_result"
    }
   ],
   "source": [
    "len(list1)"
   ]
  },
  {
   "cell_type": "markdown",
   "id": "de553644-524e-4b2e-814d-29520ac2f41a",
   "metadata": {},
   "source": [
    "## append\n",
    "## insert"
   ]
  },
  {
   "cell_type": "code",
   "execution_count": 13,
   "id": "23af2d0e-c4c8-4f39-a698-1585918fdf18",
   "metadata": {},
   "outputs": [
    {
     "data": {
      "text/plain": [
       "['Biology']"
      ]
     },
     "execution_count": 13,
     "metadata": {},
     "output_type": "execute_result"
    }
   ],
   "source": [
    "lst.append('Biology')\n",
    "lst\n"
   ]
  },
  {
   "cell_type": "code",
   "execution_count": 14,
   "id": "a28373ad-768e-4822-b1b7-051c542468d8",
   "metadata": {},
   "outputs": [
    {
     "data": {
      "text/plain": [
       "'Biology'"
      ]
     },
     "execution_count": 14,
     "metadata": {},
     "output_type": "execute_result"
    }
   ],
   "source": [
    "lst[0]"
   ]
  },
  {
   "cell_type": "code",
   "execution_count": 15,
   "id": "988da383-417e-4f3d-9e5a-2745a91bbd95",
   "metadata": {},
   "outputs": [
    {
     "data": {
      "text/plain": [
       "['physic', 1, 2, 3]"
      ]
     },
     "execution_count": 15,
     "metadata": {},
     "output_type": "execute_result"
    }
   ],
   "source": [
    "list1[1:]"
   ]
  },
  {
   "cell_type": "code",
   "execution_count": 16,
   "id": "3d799ca2-0187-49b0-9d54-313c65241082",
   "metadata": {},
   "outputs": [],
   "source": [
    "list1.insert(1,\"Biology\")"
   ]
  },
  {
   "cell_type": "code",
   "execution_count": 17,
   "id": "f8d5fa03-40ea-414e-b088-099c688d52a0",
   "metadata": {},
   "outputs": [
    {
     "data": {
      "text/plain": [
       "['Maths', 'Biology', 'physic', 1, 2, 3]"
      ]
     },
     "execution_count": 17,
     "metadata": {},
     "output_type": "execute_result"
    }
   ],
   "source": [
    "list1"
   ]
  },
  {
   "cell_type": "code",
   "execution_count": 18,
   "id": "4cb28019-ae85-462f-9242-7a1287017514",
   "metadata": {},
   "outputs": [
    {
     "data": {
      "text/plain": [
       "['Maths', 'Biology', 'physic', 1, 2, 3, ['history', 'sociology']]"
      ]
     },
     "execution_count": 18,
     "metadata": {},
     "output_type": "execute_result"
    }
   ],
   "source": [
    "list1.append(['history','sociology'])\n",
    "list1"
   ]
  },
  {
   "cell_type": "code",
   "execution_count": 19,
   "id": "432dd558-ad2e-422a-8ff4-ea8aa1488761",
   "metadata": {},
   "outputs": [
    {
     "data": {
      "text/plain": [
       "['Maths',\n",
       " 'Biology',\n",
       " 'physic',\n",
       " 1,\n",
       " 2,\n",
       " 3,\n",
       " ['history', 'sociology'],\n",
       " 'chemistry',\n",
       " 'algebra']"
      ]
     },
     "execution_count": 19,
     "metadata": {},
     "output_type": "execute_result"
    }
   ],
   "source": [
    "list1.extend(['chemistry', 'algebra'])\n",
    "list1"
   ]
  },
  {
   "cell_type": "code",
   "execution_count": 20,
   "id": "5826f899-0c71-4314-8d50-2cb3ed937eec",
   "metadata": {},
   "outputs": [
    {
     "data": {
      "text/plain": [
       "['Biology', 'physic', 1]"
      ]
     },
     "execution_count": 20,
     "metadata": {},
     "output_type": "execute_result"
    }
   ],
   "source": [
    "list1[1:4]"
   ]
  },
  {
   "cell_type": "code",
   "execution_count": null,
   "id": "93556218-e4ad-42da-bd3a-71aa4d2f9f96",
   "metadata": {},
   "outputs": [],
   "source": []
  }
 ],
 "metadata": {
  "kernelspec": {
   "display_name": "Python 3 (ipykernel)",
   "language": "python",
   "name": "python3"
  },
  "language_info": {
   "codemirror_mode": {
    "name": "ipython",
    "version": 3
   },
   "file_extension": ".py",
   "mimetype": "text/x-python",
   "name": "python",
   "nbconvert_exporter": "python",
   "pygments_lexer": "ipython3",
   "version": "3.11.7"
  }
 },
 "nbformat": 4,
 "nbformat_minor": 5
}
