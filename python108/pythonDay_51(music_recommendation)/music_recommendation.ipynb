{
 "cells": [
  {
   "cell_type": "code",
   "execution_count": 1,
   "id": "1a8c346b-35ce-4183-8064-e73a2bafb5c8",
   "metadata": {},
   "outputs": [],
   "source": [
    "import numpy as np \n",
    "import pandas as pd"
   ]
  },
  {
   "cell_type": "code",
   "execution_count": 2,
   "id": "d9017dc1-06e8-40ad-9c10-d137c957a6d3",
   "metadata": {},
   "outputs": [
    {
     "data": {
      "text/html": [
       "<div>\n",
       "<style scoped>\n",
       "    .dataframe tbody tr th:only-of-type {\n",
       "        vertical-align: middle;\n",
       "    }\n",
       "\n",
       "    .dataframe tbody tr th {\n",
       "        vertical-align: top;\n",
       "    }\n",
       "\n",
       "    .dataframe thead th {\n",
       "        text-align: right;\n",
       "    }\n",
       "</style>\n",
       "<table border=\"1\" class=\"dataframe\">\n",
       "  <thead>\n",
       "    <tr style=\"text-align: right;\">\n",
       "      <th></th>\n",
       "      <th>artist</th>\n",
       "      <th>song</th>\n",
       "      <th>link</th>\n",
       "      <th>text</th>\n",
       "    </tr>\n",
       "  </thead>\n",
       "  <tbody>\n",
       "    <tr>\n",
       "      <th>0</th>\n",
       "      <td>ABBA</td>\n",
       "      <td>Ahe's My Kind Of Girl</td>\n",
       "      <td>/a/abba/ahes+my+kind+of+girl_20598417.html</td>\n",
       "      <td>Look at her face, it's a wonderful face  \\nAnd...</td>\n",
       "    </tr>\n",
       "    <tr>\n",
       "      <th>1</th>\n",
       "      <td>ABBA</td>\n",
       "      <td>Andante, Andante</td>\n",
       "      <td>/a/abba/andante+andante_20002708.html</td>\n",
       "      <td>Take it easy with me, please  \\nTouch me gentl...</td>\n",
       "    </tr>\n",
       "    <tr>\n",
       "      <th>2</th>\n",
       "      <td>ABBA</td>\n",
       "      <td>As Good As New</td>\n",
       "      <td>/a/abba/as+good+as+new_20003033.html</td>\n",
       "      <td>I'll never know why I had to go  \\nWhy I had t...</td>\n",
       "    </tr>\n",
       "    <tr>\n",
       "      <th>3</th>\n",
       "      <td>ABBA</td>\n",
       "      <td>Bang</td>\n",
       "      <td>/a/abba/bang_20598415.html</td>\n",
       "      <td>Making somebody happy is a question of give an...</td>\n",
       "    </tr>\n",
       "    <tr>\n",
       "      <th>4</th>\n",
       "      <td>ABBA</td>\n",
       "      <td>Bang-A-Boomerang</td>\n",
       "      <td>/a/abba/bang+a+boomerang_20002668.html</td>\n",
       "      <td>Making somebody happy is a question of give an...</td>\n",
       "    </tr>\n",
       "  </tbody>\n",
       "</table>\n",
       "</div>"
      ],
      "text/plain": [
       "  artist                   song                                        link  \\\n",
       "0   ABBA  Ahe's My Kind Of Girl  /a/abba/ahes+my+kind+of+girl_20598417.html   \n",
       "1   ABBA       Andante, Andante       /a/abba/andante+andante_20002708.html   \n",
       "2   ABBA         As Good As New        /a/abba/as+good+as+new_20003033.html   \n",
       "3   ABBA                   Bang                  /a/abba/bang_20598415.html   \n",
       "4   ABBA       Bang-A-Boomerang      /a/abba/bang+a+boomerang_20002668.html   \n",
       "\n",
       "                                                text  \n",
       "0  Look at her face, it's a wonderful face  \\nAnd...  \n",
       "1  Take it easy with me, please  \\nTouch me gentl...  \n",
       "2  I'll never know why I had to go  \\nWhy I had t...  \n",
       "3  Making somebody happy is a question of give an...  \n",
       "4  Making somebody happy is a question of give an...  "
      ]
     },
     "execution_count": 2,
     "metadata": {},
     "output_type": "execute_result"
    }
   ],
   "source": [
    "df = pd.read_csv(\"songdata.csv\")\n",
    "df.head()"
   ]
  },
  {
   "cell_type": "code",
   "execution_count": 3,
   "id": "e5a4a2b5-8f5b-484f-88db-4c51ab1baa53",
   "metadata": {},
   "outputs": [
    {
     "data": {
      "text/plain": [
       "(57650, 4)"
      ]
     },
     "execution_count": 3,
     "metadata": {},
     "output_type": "execute_result"
    }
   ],
   "source": [
    "df.shape"
   ]
  },
  {
   "cell_type": "code",
   "execution_count": 4,
   "id": "071609be-5a47-471a-9cd8-13584992965f",
   "metadata": {},
   "outputs": [],
   "source": [
    "df = df.sample(n=5000).drop('link',axis=1).reset_index(drop=True)"
   ]
  },
  {
   "cell_type": "markdown",
   "id": "ca9bd2b3-44b6-4430-812e-154d6d8730e6",
   "metadata": {},
   "source": [
    "#recommendation based on popularity, content base , collaborative filtering,hybrid "
   ]
  },
  {
   "cell_type": "markdown",
   "id": "30a575be-2575-4f9f-96f8-b094225fae3b",
   "metadata": {},
   "source": [
    "#Clean"
   ]
  },
  {
   "cell_type": "code",
   "execution_count": 5,
   "id": "d0e0922c-db49-4bcc-9adc-8f0b800ce41e",
   "metadata": {},
   "outputs": [
    {
     "data": {
      "text/plain": [
       "\"Oh so, my love  \\nThis sleeping pill  \\nWill watch you through the night  \\nAnd come dawn  \\nI'll be long, long gone  \\nI tried, I tried, I tried  \\nI.. Tried, i.. Tried  \\nWe feed upon the broken branch  \\nWe kiss the stars goodbye  \\nFor the sun can't fight this overcast  \\nI tried, I tried, I tried  \\nI.. Tried, i.. Tried  \\nThe spider's web  \\nIt can't break our fall  \\nI whisper to the sky  \\nI pray she takes you in her arms  \\nI tried, I tried, I tried  \\nI.. Tried, i.. Tried  \\nI.. Tried..  \\nStorm warning in the sand  \\nShe evaporates beneath my fingernails  \\nThe road is lost underwater  \\nShe's running down a river with eels  \\nShe is lost to me.\\n\\n\""
      ]
     },
     "execution_count": 5,
     "metadata": {},
     "output_type": "execute_result"
    }
   ],
   "source": [
    "df['text'][0]"
   ]
  },
  {
   "cell_type": "code",
   "execution_count": 6,
   "id": "99affa5f-a1cf-4c09-abb5-c6677b738461",
   "metadata": {},
   "outputs": [
    {
     "data": {
      "text/plain": [
       "0       oh so, my love  this sleeping pill  will watch...\n",
       "1       praise him you heavens and all that's above  p...\n",
       "2       sittin' here on terra firma  it's the kind of ...\n",
       "3       somedays, we forget to look around us,  someda...\n",
       "4       when i took a little loving from you  oh i, ne...\n",
       "                              ...                        \n",
       "4995    oh, oh, the sun beats down  and burns the tar ...\n",
       "4996    everybody's gone away  said they're movin' to ...\n",
       "4997    june was the lobster shell,  i dug by hand, a ...\n",
       "4998    (rock mafia)  drop the music,  coast to coast....\n",
       "4999    i'm hungry for your love  i'm hungry for your ...\n",
       "Name: text, Length: 5000, dtype: object"
      ]
     },
     "execution_count": 6,
     "metadata": {},
     "output_type": "execute_result"
    }
   ],
   "source": [
    "df['text'].str.lower().replace(r'[^\\w\\s]',\"\").replace(r'\\n','',regex=True)"
   ]
  },
  {
   "cell_type": "code",
   "execution_count": 7,
   "id": "fed63dd8-dd5c-412a-a1e0-647970cebef5",
   "metadata": {},
   "outputs": [],
   "source": [
    "import nltk\n",
    "# nltk.download('punkt')\n",
    "from nltk.stem.porter import PorterStemmer\n",
    "\n",
    "ps = PorterStemmer()\n",
    "\n",
    "def tokenization(txt):\n",
    "    tokens = nltk.word_tokenize(txt)\n",
    "    stemming = [ps.stem(w) for w in tokens] \n",
    "    return \" \".join(stemming)\n"
   ]
  },
  {
   "cell_type": "code",
   "execution_count": 8,
   "id": "aeb3ca0a-e986-4ff4-9b0f-f4fcedbd4bb9",
   "metadata": {},
   "outputs": [
    {
     "data": {
      "text/plain": [
       "'love love love'"
      ]
     },
     "execution_count": 8,
     "metadata": {},
     "output_type": "execute_result"
    }
   ],
   "source": [
    "tokenization(\"loving love loved\")"
   ]
  },
  {
   "cell_type": "code",
   "execution_count": 9,
   "id": "8bc991b8-d3f7-423c-98d5-266f045810bb",
   "metadata": {},
   "outputs": [],
   "source": [
    "from sklearn.feature_extraction.text import TfidfVectorizer\n",
    "from sklearn.metrics.pairwise import cosine_similarity\n",
    "\n"
   ]
  },
  {
   "cell_type": "code",
   "execution_count": 10,
   "id": "8fab928b-0eef-411b-a862-26911b8677ce",
   "metadata": {},
   "outputs": [],
   "source": [
    "tfid = TfidfVectorizer(stop_words='english')\n",
    "matrix = tfid.fit_transform(df['text'])"
   ]
  },
  {
   "cell_type": "code",
   "execution_count": 11,
   "id": "53286bf0-cd1b-4541-a2d7-d1b2ad027a17",
   "metadata": {},
   "outputs": [
    {
     "data": {
      "text/plain": [
       "(5000, 24001)"
      ]
     },
     "execution_count": 11,
     "metadata": {},
     "output_type": "execute_result"
    }
   ],
   "source": [
    "matrix.shape"
   ]
  },
  {
   "cell_type": "code",
   "execution_count": 12,
   "id": "883eb862-a559-4f1d-bbf3-c59c2b2ce16e",
   "metadata": {},
   "outputs": [],
   "source": [
    "similarity = cosine_similarity(matrix)"
   ]
  },
  {
   "cell_type": "code",
   "execution_count": 13,
   "id": "ade5f349-22c2-4fc1-aa7c-4cf78273e364",
   "metadata": {},
   "outputs": [
    {
     "data": {
      "text/plain": [
       "array([1.        , 0.00740086, 0.00701904, ..., 0.02168997, 0.02205137,\n",
       "       0.01468748])"
      ]
     },
     "execution_count": 13,
     "metadata": {},
     "output_type": "execute_result"
    }
   ],
   "source": [
    "similarity[0]"
   ]
  },
  {
   "cell_type": "code",
   "execution_count": 14,
   "id": "96083d5d-5748-42c9-af4c-298bee93329e",
   "metadata": {},
   "outputs": [
    {
     "data": {
      "text/plain": [
       "'Sleeping Pill'"
      ]
     },
     "execution_count": 14,
     "metadata": {},
     "output_type": "execute_result"
    }
   ],
   "source": [
    "df['song'][0]"
   ]
  },
  {
   "cell_type": "code",
   "execution_count": 15,
   "id": "1f1d909e-3fef-4c0e-a998-a0582ba81860",
   "metadata": {},
   "outputs": [
    {
     "data": {
      "text/plain": [
       "0       False\n",
       "1       False\n",
       "2       False\n",
       "3       False\n",
       "4       False\n",
       "        ...  \n",
       "4995    False\n",
       "4996    False\n",
       "4997    False\n",
       "4998    False\n",
       "4999    False\n",
       "Name: song, Length: 5000, dtype: bool"
      ]
     },
     "execution_count": 15,
     "metadata": {},
     "output_type": "execute_result"
    }
   ],
   "source": [
    "df['song']=='Cashed Out'"
   ]
  },
  {
   "cell_type": "code",
   "execution_count": 16,
   "id": "6faa3ea5-11ab-45de-b7d4-22344f4e0faf",
   "metadata": {},
   "outputs": [
    {
     "data": {
      "text/html": [
       "<div>\n",
       "<style scoped>\n",
       "    .dataframe tbody tr th:only-of-type {\n",
       "        vertical-align: middle;\n",
       "    }\n",
       "\n",
       "    .dataframe tbody tr th {\n",
       "        vertical-align: top;\n",
       "    }\n",
       "\n",
       "    .dataframe thead th {\n",
       "        text-align: right;\n",
       "    }\n",
       "</style>\n",
       "<table border=\"1\" class=\"dataframe\">\n",
       "  <thead>\n",
       "    <tr style=\"text-align: right;\">\n",
       "      <th></th>\n",
       "      <th>artist</th>\n",
       "      <th>song</th>\n",
       "      <th>text</th>\n",
       "    </tr>\n",
       "  </thead>\n",
       "  <tbody>\n",
       "    <tr>\n",
       "      <th>4269</th>\n",
       "      <td>Lil Wayne</td>\n",
       "      <td>Cashed Out</td>\n",
       "      <td>Fuck nigga  \\nMy blunt bigger than these lil n...</td>\n",
       "    </tr>\n",
       "  </tbody>\n",
       "</table>\n",
       "</div>"
      ],
      "text/plain": [
       "         artist        song                                               text\n",
       "4269  Lil Wayne  Cashed Out  Fuck nigga  \\nMy blunt bigger than these lil n..."
      ]
     },
     "execution_count": 16,
     "metadata": {},
     "output_type": "execute_result"
    }
   ],
   "source": [
    "df[df['song']=='Cashed Out']"
   ]
  },
  {
   "cell_type": "code",
   "execution_count": 17,
   "id": "d1b94be8-f073-4c72-979f-c0dfe78ab178",
   "metadata": {},
   "outputs": [
    {
     "ename": "TypeError",
     "evalue": "list() takes no keyword arguments",
     "output_type": "error",
     "traceback": [
      "\u001b[1;31m---------------------------------------------------------------------------\u001b[0m",
      "\u001b[1;31mTypeError\u001b[0m                                 Traceback (most recent call last)",
      "Cell \u001b[1;32mIn[17], line 1\u001b[0m\n\u001b[1;32m----> 1\u001b[0m \u001b[38;5;28mlist\u001b[39m(\u001b[38;5;28menumerate\u001b[39m(similarity[\u001b[38;5;241m0\u001b[39m]),reverse\u001b[38;5;241m=\u001b[39m\u001b[38;5;28;01mFalse\u001b[39;00m,key\u001b[38;5;241m=\u001b[39m\u001b[38;5;28;01mlambda\u001b[39;00m x:x[\u001b[38;5;241m1\u001b[39m])\n",
      "\u001b[1;31mTypeError\u001b[0m: list() takes no keyword arguments"
     ]
    }
   ],
   "source": [
    "list(enumerate(similarity[0]),reverse=False,key=lambda x:x[1])"
   ]
  },
  {
   "cell_type": "code",
   "execution_count": 18,
   "id": "eaaf814d-ec79-480a-a1c3-fdb371ac825d",
   "metadata": {},
   "outputs": [],
   "source": [
    "def recommendation(song):\n",
    "    idx = df[df['song']==song].index[0]\n",
    "    distances = sorted(list(enumerate(similarity[idx])),reverse=False,key=lambda x:x[1])\n",
    "    songs = []\n",
    "    for i in distances[1:21]:\n",
    "        songs.append(df.iloc[i[0]].song)\n",
    "    return songs\n",
    "    "
   ]
  },
  {
   "cell_type": "code",
   "execution_count": 20,
   "id": "cc8cac18-29e5-4363-a02b-e35f43939f93",
   "metadata": {},
   "outputs": [
    {
     "data": {
      "text/plain": [
       "['No Respect',\n",
       " 'Because We Can',\n",
       " 'Shining',\n",
       " 'Endless',\n",
       " 'Country Darkness',\n",
       " 'Darkness Of Christ',\n",
       " 'God Is Moving',\n",
       " 'One Of These Things First',\n",
       " 'Yachil Vi Veyachali',\n",
       " 'Oh Christmas Tree',\n",
       " 'Hagkan',\n",
       " 'Along The Road',\n",
       " \"Es Ist Ein Ros' Entsprungen\",\n",
       " 'Starfuckers',\n",
       " 'Abide With Me',\n",
       " 'West Of The Moon',\n",
       " 'Greater Than All',\n",
       " 'Aku Disini',\n",
       " 'Moonlight In Vermont',\n",
       " 'Always']"
      ]
     },
     "execution_count": 20,
     "metadata": {},
     "output_type": "execute_result"
    }
   ],
   "source": [
    "recommendation('Cashed Out')"
   ]
  },
  {
   "cell_type": "code",
   "execution_count": 21,
   "id": "47707424-10e8-48fc-9e84-66d008cd6275",
   "metadata": {},
   "outputs": [],
   "source": [
    "import pickle\n",
    "pickle.dump(df,open('df.pkl','wb'))\n",
    "pickle.dump(similarity,open('similarity.pkl','wb'))"
   ]
  },
  {
   "cell_type": "code",
   "execution_count": null,
   "id": "f3b0fa68-c48f-410b-92f0-92cbfffdc656",
   "metadata": {},
   "outputs": [],
   "source": []
  }
 ],
 "metadata": {
  "kernelspec": {
   "display_name": "Python 3 (ipykernel)",
   "language": "python",
   "name": "python3"
  },
  "language_info": {
   "codemirror_mode": {
    "name": "ipython",
    "version": 3
   },
   "file_extension": ".py",
   "mimetype": "text/x-python",
   "name": "python",
   "nbconvert_exporter": "python",
   "pygments_lexer": "ipython3",
   "version": "3.11.7"
  }
 },
 "nbformat": 4,
 "nbformat_minor": 5
}
