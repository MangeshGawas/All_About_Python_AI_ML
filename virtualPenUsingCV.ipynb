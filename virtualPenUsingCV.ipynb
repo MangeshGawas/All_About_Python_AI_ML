{
  "nbformat": 4,
  "nbformat_minor": 0,
  "metadata": {
    "colab": {
      "provenance": [],
      "authorship_tag": "ABX9TyOgK9HWgBBgcXO2oyrWqSck"
    },
    "kernelspec": {
      "name": "python3",
      "display_name": "Python 3"
    },
    "language_info": {
      "name": "python"
    }
  },
  "cells": [
    {
      "cell_type": "code",
      "execution_count": null,
      "metadata": {
        "id": "iHYbfULcG65H"
      },
      "outputs": [],
      "source": [
        "import cv2\n",
        "import numpy as np\n",
        "\n",
        "frameWidth = 640\n",
        "frameHeight = 480\n",
        "\n",
        "myColor = [[5,107,0,19,255,255],\n",
        "          [133,56,0,159,156,255]\n",
        "          ]\n",
        "\n",
        "myColorValues =[[51,153,255],[255,0,255]]\n",
        "\n",
        "myPoints = [] #[x,y,colorId]"
      ]
    },
    {
      "cell_type": "code",
      "source": [
        "cap = cv2.VideoCapture(0)\n"
      ],
      "metadata": {
        "id": "n7xjqRs7HG8R"
      },
      "execution_count": null,
      "outputs": []
    },
    {
      "cell_type": "code",
      "source": [
        "# Check if the camera is opened successfully\n",
        "if not cap.isOpened():\n",
        "    print(\"Error: Unable to open camera.\")\n",
        "    exit()\n",
        "\n",
        "cap.set(3, frameWidth)\n",
        "cap.set(4, frameHeight)"
      ],
      "metadata": {
        "id": "NNH_kYsAHMIZ"
      },
      "execution_count": null,
      "outputs": []
    },
    {
      "cell_type": "code",
      "source": [
        "def findColor(img, myColors,myColorValues):\n",
        "    count = 0\n",
        "    imgHSV = cv2.cvtColor(img, cv2.COLOR_BGR2HSV)\n",
        "    newPoints = []\n",
        "    for color in myColors:\n",
        "        lower = np.array(color[0:3])\n",
        "        upper = np.array(color[3:6])\n",
        "        mask = cv2.inRange(imgHSV, lower, upper)\n",
        "        x,y = getContours(mask)\n",
        "        cv2.circle(imgResult,(x,y),10,myColorValues[count],cv2.FILLED)\n",
        "        if x!=0 and y !=0:\n",
        "            newPoints.append([x,y,count])\n",
        "        count+=1\n",
        "    return newPoints"
      ],
      "metadata": {
        "id": "bkRXtfGKHR3Y"
      },
      "execution_count": null,
      "outputs": []
    },
    {
      "cell_type": "code",
      "source": [
        "def getContours(img):\n",
        "    contours, hierarchy = cv2.findContours(img, cv2.RETR_EXTERNAL, cv2.CHAIN_APPROX_NONE)\n",
        "    x,y,w,h =0,0,0,0\n",
        "    for cnt in contours:\n",
        "        area = cv2.contourArea(cnt)\n",
        "        if area > 500:\n",
        "            cv2.drawContours(imgResult, [cnt], -1, (255, 0, 0), 3)\n",
        "            peri = cv2.arcLength(cnt, True)\n",
        "            approx = cv2.approxPolyDP(cnt, 0.02 * peri, True)\n",
        "            x, y, w, h = cv2.boundingRect(approx)\n",
        "    return x+w//2,y"
      ],
      "metadata": {
        "id": "3qWf-uZGHSf8"
      },
      "execution_count": null,
      "outputs": []
    },
    {
      "cell_type": "code",
      "source": [
        "def drawOnCanvas(myPoints,myColorValues):\n",
        "    for point in myPoints:\n",
        "        cv2.circle(imgResult,(point[0],point[1]),10,myColorValues[point[2]],cv2.FILLED)"
      ],
      "metadata": {
        "id": "lYxgICukHXqe"
      },
      "execution_count": null,
      "outputs": []
    },
    {
      "cell_type": "code",
      "source": [
        " #continuously captures frames from the camera and processes them\n",
        "while True:\n",
        "\n",
        "    success, img = cap.read()\n",
        "    imgResult = img.copy()\n",
        "    newPoints = findColor(img,myColor,myColorValues)\n",
        "    if len(newPoints)!=0:\n",
        "        for newP in newPoints:\n",
        "            myPoints.append(newP)\n",
        "    if len(newPoints)!=0:\n",
        "        drawOnCanvas(myPoints,myColorValues)\n",
        "    cv2.imshow(\"result\",imgResult)\n",
        "    if not success:\n",
        "        print(\"Error: Failed to read frame from the camera.\")\n",
        "        break\n",
        "\n",
        "    # Check if the captured frame is empty\n",
        "    if img is None:\n",
        "        print(\"Error: Empty frame captured from the camera.\")\n",
        "        continue\n",
        "\n",
        "\n",
        "    if cv2.waitKey(1) & 0xFF == ord('q'):\n",
        "        break"
      ],
      "metadata": {
        "id": "81tpINCdHegR"
      },
      "execution_count": null,
      "outputs": []
    },
    {
      "cell_type": "code",
      "source": [
        "\n",
        "# Release the camera properly\n",
        "cap.release()\n",
        "cv2.destroyAllWindows()"
      ],
      "metadata": {
        "id": "UERG0rikHh9x"
      },
      "execution_count": null,
      "outputs": []
    }
  ]
}