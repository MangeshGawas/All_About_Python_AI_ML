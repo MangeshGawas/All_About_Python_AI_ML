{
  "nbformat": 4,
  "nbformat_minor": 0,
  "metadata": {
    "colab": {
      "provenance": [],
      "authorship_tag": "ABX9TyN/XIpR/pHKjJiZ5D8s3Xj0",
      "include_colab_link": true
    },
    "kernelspec": {
      "name": "python3",
      "display_name": "Python 3"
    },
    "language_info": {
      "name": "python"
    }
  },
  "cells": [
    {
      "cell_type": "markdown",
      "metadata": {
        "id": "view-in-github",
        "colab_type": "text"
      },
      "source": [
        "<a href=\"https://colab.research.google.com/github/MangeshGawas/PythonDSA/blob/main/Tensorflow_1.ipynb\" target=\"_parent\"><img src=\"https://colab.research.google.com/assets/colab-badge.svg\" alt=\"Open In Colab\"/></a>"
      ]
    },
    {
      "cell_type": "code",
      "source": [
        "import tensorflow as tf"
      ],
      "metadata": {
        "id": "6yC0HuxVWEO_"
      },
      "execution_count": 1,
      "outputs": []
    },
    {
      "cell_type": "code",
      "source": [
        "a = tf.constant(2)\n",
        "b = tf.constant(3)"
      ],
      "metadata": {
        "id": "wRNZrlXoWMOx"
      },
      "execution_count": 2,
      "outputs": []
    },
    {
      "cell_type": "code",
      "source": [
        "add = tf.add(a,b)\n",
        "sub = tf.subtract(a,b)\n",
        "mul = tf.multiply(a,b)\n"
      ],
      "metadata": {
        "colab": {
          "base_uri": "https://localhost:8080/"
        },
        "id": "xsmMVEmvW7zb",
        "outputId": "049467ac-6c97-4420-dbaa-70b85add9217"
      },
      "execution_count": 6,
      "outputs": [
        {
          "output_type": "stream",
          "name": "stdout",
          "text": [
            "add:5\n",
            "subtract:-1\n",
            "multiply:6\n"
          ]
        }
      ]
    },
    {
      "cell_type": "markdown",
      "source": [
        "Create Tensor session\n"
      ],
      "metadata": {
        "id": "JY-QwRoVXD3D"
      }
    },
    {
      "cell_type": "code",
      "source": [
        "# Execute operations within TensorFlow's default graph\n",
        "result_add = add.numpy()\n",
        "result_sub = sub.numpy()\n",
        "result_mul = mul.numpy()\n",
        "\n",
        "print(f\"Addition: {result_add}\")\n",
        "print(f\"Subtraction: {result_sub}\")\n",
        "print(f\"Multiplication: {result_mul}\")"
      ],
      "metadata": {
        "colab": {
          "base_uri": "https://localhost:8080/"
        },
        "id": "tDAiS45MXCvo",
        "outputId": "a9cc5e2f-e993-421c-d328-49e16e3249fe"
      },
      "execution_count": 9,
      "outputs": [
        {
          "output_type": "stream",
          "name": "stdout",
          "text": [
            "Addition: 5\n",
            "Subtraction: -1\n",
            "Multiplication: 6\n"
          ]
        }
      ]
    }
  ]
}