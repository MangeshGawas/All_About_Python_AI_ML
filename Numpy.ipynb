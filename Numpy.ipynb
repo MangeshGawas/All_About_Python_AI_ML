{
  "nbformat": 4,
  "nbformat_minor": 0,
  "metadata": {
    "colab": {
      "provenance": [],
      "authorship_tag": "ABX9TyPQVcGkgiNFOIKCcFsGnxII",
      "include_colab_link": true
    },
    "kernelspec": {
      "name": "python3",
      "display_name": "Python 3"
    },
    "language_info": {
      "name": "python"
    }
  },
  "cells": [
    {
      "cell_type": "markdown",
      "metadata": {
        "id": "view-in-github",
        "colab_type": "text"
      },
      "source": [
        "<a href=\"https://colab.research.google.com/github/MangeshGawas/All_About_Python_AI_ML/blob/main/Numpy.ipynb\" target=\"_parent\"><img src=\"https://colab.research.google.com/assets/colab-badge.svg\" alt=\"Open In Colab\"/></a>"
      ]
    },
    {
      "cell_type": "markdown",
      "source": [
        "Problem statement 1\n",
        "\n",
        "Given a list lst perform elementwise addition with 5.\n"
      ],
      "metadata": {
        "id": "KdXj9ydC2qdE"
      }
    },
    {
      "cell_type": "code",
      "source": [
        "lst = [5, 10, 0, 200]\n",
        "\n",
        "import numpy as np\n",
        "arr = np.array(lst)\n",
        "print(arr+5)\n"
      ],
      "metadata": {
        "colab": {
          "base_uri": "https://localhost:8080/"
        },
        "id": "THD7YQ9n4Yre",
        "outputId": "50965222-42e9-457f-914f-b8f5b573ea6e"
      },
      "execution_count": 12,
      "outputs": [
        {
          "output_type": "stream",
          "name": "stdout",
          "text": [
            "[ 10  15   5 205]\n"
          ]
        }
      ]
    },
    {
      "cell_type": "code",
      "source": [
        "import numpy as np\n",
        "\n",
        "lst = [1, 2, 3, \"text\", True, 3+2j]\n",
        "arr = np.array(lst)\n",
        "\n",
        "for i in arr:\n",
        "    print(type(i))"
      ],
      "metadata": {
        "colab": {
          "base_uri": "https://localhost:8080/"
        },
        "id": "fYZVe_fF4oEq",
        "outputId": "71f71418-5819-4dcd-90f4-23beb5b2b7fe"
      },
      "execution_count": 17,
      "outputs": [
        {
          "output_type": "stream",
          "name": "stdout",
          "text": [
            "<class 'numpy.str_'>\n",
            "<class 'numpy.str_'>\n",
            "<class 'numpy.str_'>\n",
            "<class 'numpy.str_'>\n",
            "<class 'numpy.str_'>\n",
            "<class 'numpy.str_'>\n"
          ]
        }
      ]
    },
    {
      "cell_type": "markdown",
      "source": [
        "Problem statement 3\n",
        "\n",
        "Given a list lst find its complete size in bytes. Hint: use sys.getsizeof(lst)"
      ],
      "metadata": {
        "id": "uRi-BZkZ3JlC"
      }
    },
    {
      "cell_type": "code",
      "source": [
        "lst = [56,45,12,6]\n",
        "import numpy as np\n",
        "arr=np.array(lst)\n",
        "print(arr.nbytes)"
      ],
      "metadata": {
        "colab": {
          "base_uri": "https://localhost:8080/"
        },
        "id": "RoHTRusJ3MOR",
        "outputId": "a0fbdcfd-fa43-4d17-be8e-92b88a1de9a1"
      },
      "execution_count": 18,
      "outputs": [
        {
          "output_type": "stream",
          "name": "stdout",
          "text": [
            "32\n"
          ]
        }
      ]
    },
    {
      "cell_type": "markdown",
      "source": [
        "**NumPy object creation**"
      ],
      "metadata": {
        "id": "K2WjMKm26EMq"
      }
    },
    {
      "cell_type": "code",
      "source": [
        "arr = np.array([2,6,7,4],dtype=int)\n",
        "print(arr)\n",
        "\n",
        "print(type(arr))\n",
        "\n",
        "print(np.result_type(arr))"
      ],
      "metadata": {
        "colab": {
          "base_uri": "https://localhost:8080/"
        },
        "id": "Q2njYRxG57Jj",
        "outputId": "c9de43bb-c79b-4052-81b0-a6ce1607731d"
      },
      "execution_count": 19,
      "outputs": [
        {
          "output_type": "stream",
          "name": "stdout",
          "text": [
            "[2 6 7 4]\n",
            "<class 'numpy.ndarray'>\n",
            "int64\n"
          ]
        }
      ]
    },
    {
      "cell_type": "code",
      "source": [
        "''' Creation of an array with step size 1.33 between 0 - 10 '''\n",
        "print(np.arange(0, 10, 1.33, dtype = np.float64))"
      ],
      "metadata": {
        "colab": {
          "base_uri": "https://localhost:8080/"
        },
        "id": "ApYkGLJo6bmv",
        "outputId": "5a1b00d3-79cd-485e-c0f6-f89eb089c8e1"
      },
      "execution_count": 23,
      "outputs": [
        {
          "output_type": "stream",
          "name": "stdout",
          "text": [
            "[0.   1.33 2.66 3.99 5.32 6.65 7.98 9.31]\n"
          ]
        }
      ]
    },
    {
      "cell_type": "code",
      "source": [
        "\n",
        "''' Creation of an array with total 5 values between 0 - 160 '''\n",
        "print(np.linspace(0,160,5,dtype=np.float64))"
      ],
      "metadata": {
        "colab": {
          "base_uri": "https://localhost:8080/"
        },
        "id": "MXHWXq9b66BJ",
        "outputId": "1e3acdf6-0a58-4036-9202-8895364f2852"
      },
      "execution_count": 24,
      "outputs": [
        {
          "output_type": "stream",
          "name": "stdout",
          "text": [
            "[  0.  40.  80. 120. 160.]\n"
          ]
        }
      ]
    },
    {
      "cell_type": "markdown",
      "source": [
        "**Matrix Creation**\n"
      ],
      "metadata": {
        "id": "xOwWGT9r7ioX"
      }
    },
    {
      "cell_type": "code",
      "source": [
        "''' Method I: Using array and reshape to convert array into matrix '''\n",
        "print(np.array([5,6,8,45,12,52]).reshape(2,3))\n",
        "\n",
        "''' Method II: Using matrix function '''\n",
        "print(np.matrix([[1,2,3],[12,13,14]]))\n",
        "\n",
        "''' Method III: Using misc. functions '''\n",
        "print(np.eye(3))\n",
        "\n",
        "print(np.zeros((4,3)))\n",
        "\n",
        "print(np.ones((3,3),dtype = np.float64))\n"
      ],
      "metadata": {
        "colab": {
          "base_uri": "https://localhost:8080/"
        },
        "id": "gIuIQsxL7d_s",
        "outputId": "33036ac0-8385-4f8b-daa9-0b7901c4ad00"
      },
      "execution_count": 33,
      "outputs": [
        {
          "output_type": "stream",
          "name": "stdout",
          "text": [
            "[[ 5  6  8]\n",
            " [45 12 52]]\n",
            "[[ 1  2  3]\n",
            " [12 13 14]]\n",
            "[[1. 0. 0.]\n",
            " [0. 1. 0.]\n",
            " [0. 0. 1.]]\n",
            "[[0. 0. 0.]\n",
            " [0. 0. 0.]\n",
            " [0. 0. 0.]\n",
            " [0. 0. 0.]]\n",
            "[[1. 1. 1.]\n",
            " [1. 1. 1.]\n",
            " [1. 1. 1.]]\n"
          ]
        }
      ]
    },
    {
      "cell_type": "code",
      "source": [],
      "metadata": {
        "id": "92dyBUDm72Bw"
      },
      "execution_count": null,
      "outputs": []
    }
  ]
}