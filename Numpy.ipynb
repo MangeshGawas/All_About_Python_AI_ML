{
  "nbformat": 4,
  "nbformat_minor": 0,
  "metadata": {
    "colab": {
      "provenance": [],
      "authorship_tag": "ABX9TyPJMVeSzRFb/ExbleRPiB6k",
      "include_colab_link": true
    },
    "kernelspec": {
      "name": "python3",
      "display_name": "Python 3"
    },
    "language_info": {
      "name": "python"
    }
  },
  "cells": [
    {
      "cell_type": "markdown",
      "metadata": {
        "id": "view-in-github",
        "colab_type": "text"
      },
      "source": [
        "<a href=\"https://colab.research.google.com/github/MangeshGawas/All_About_Python_AI_ML/blob/main/Numpy.ipynb\" target=\"_parent\"><img src=\"https://colab.research.google.com/assets/colab-badge.svg\" alt=\"Open In Colab\"/></a>"
      ]
    },
    {
      "cell_type": "markdown",
      "source": [
        "Problem statement 1\n",
        "\n",
        "Given a list lst perform elementwise addition with 5.\n"
      ],
      "metadata": {
        "id": "KdXj9ydC2qdE"
      }
    },
    {
      "cell_type": "code",
      "source": [
        "lst = [5, 10, 0, 200]\n",
        "\n",
        "import numpy as np\n",
        "arr = np.array(lst)\n",
        "print(arr+5)\n"
      ],
      "metadata": {
        "colab": {
          "base_uri": "https://localhost:8080/"
        },
        "id": "THD7YQ9n4Yre",
        "outputId": "50965222-42e9-457f-914f-b8f5b573ea6e"
      },
      "execution_count": 12,
      "outputs": [
        {
          "output_type": "stream",
          "name": "stdout",
          "text": [
            "[ 10  15   5 205]\n"
          ]
        }
      ]
    },
    {
      "cell_type": "code",
      "source": [
        "import numpy as np\n",
        "\n",
        "lst = [1, 2, 3, \"text\", True, 3+2j]\n",
        "arr = np.array(lst)\n",
        "\n",
        "for i in arr:\n",
        "    print(type(i))"
      ],
      "metadata": {
        "colab": {
          "base_uri": "https://localhost:8080/"
        },
        "id": "fYZVe_fF4oEq",
        "outputId": "71f71418-5819-4dcd-90f4-23beb5b2b7fe"
      },
      "execution_count": 17,
      "outputs": [
        {
          "output_type": "stream",
          "name": "stdout",
          "text": [
            "<class 'numpy.str_'>\n",
            "<class 'numpy.str_'>\n",
            "<class 'numpy.str_'>\n",
            "<class 'numpy.str_'>\n",
            "<class 'numpy.str_'>\n",
            "<class 'numpy.str_'>\n"
          ]
        }
      ]
    },
    {
      "cell_type": "markdown",
      "source": [
        "Problem statement 3\n",
        "\n",
        "Given a list lst find its complete size in bytes. Hint: use sys.getsizeof(lst)"
      ],
      "metadata": {
        "id": "uRi-BZkZ3JlC"
      }
    },
    {
      "cell_type": "code",
      "source": [
        "lst = [56,45,12,6]\n",
        "import numpy as np\n",
        "arr=np.array(lst)\n",
        "print(arr.nbytes)"
      ],
      "metadata": {
        "colab": {
          "base_uri": "https://localhost:8080/"
        },
        "id": "RoHTRusJ3MOR",
        "outputId": "a0fbdcfd-fa43-4d17-be8e-92b88a1de9a1"
      },
      "execution_count": 18,
      "outputs": [
        {
          "output_type": "stream",
          "name": "stdout",
          "text": [
            "32\n"
          ]
        }
      ]
    },
    {
      "cell_type": "markdown",
      "source": [
        "**NumPy object creation**"
      ],
      "metadata": {
        "id": "K2WjMKm26EMq"
      }
    },
    {
      "cell_type": "code",
      "source": [
        "arr = np.array([2,6,7,4],dtype=int)\n",
        "print(arr)\n",
        "\n",
        "print(type(arr))\n",
        "\n",
        "print(np.result_type(arr))"
      ],
      "metadata": {
        "colab": {
          "base_uri": "https://localhost:8080/"
        },
        "id": "Q2njYRxG57Jj",
        "outputId": "c9de43bb-c79b-4052-81b0-a6ce1607731d"
      },
      "execution_count": 19,
      "outputs": [
        {
          "output_type": "stream",
          "name": "stdout",
          "text": [
            "[2 6 7 4]\n",
            "<class 'numpy.ndarray'>\n",
            "int64\n"
          ]
        }
      ]
    },
    {
      "cell_type": "code",
      "source": [
        "''' Creation of an array with step size 1.33 between 0 - 10 '''\n",
        "print(np.arange(0, 10, 1.33, dtype = np.float64))"
      ],
      "metadata": {
        "colab": {
          "base_uri": "https://localhost:8080/"
        },
        "id": "ApYkGLJo6bmv",
        "outputId": "5a1b00d3-79cd-485e-c0f6-f89eb089c8e1"
      },
      "execution_count": 23,
      "outputs": [
        {
          "output_type": "stream",
          "name": "stdout",
          "text": [
            "[0.   1.33 2.66 3.99 5.32 6.65 7.98 9.31]\n"
          ]
        }
      ]
    },
    {
      "cell_type": "code",
      "source": [
        "\n",
        "''' Creation of an array with total 5 values between 0 - 160 '''\n",
        "print(np.linspace(0,160,5,dtype=np.float64))"
      ],
      "metadata": {
        "colab": {
          "base_uri": "https://localhost:8080/"
        },
        "id": "MXHWXq9b66BJ",
        "outputId": "1e3acdf6-0a58-4036-9202-8895364f2852"
      },
      "execution_count": 24,
      "outputs": [
        {
          "output_type": "stream",
          "name": "stdout",
          "text": [
            "[  0.  40.  80. 120. 160.]\n"
          ]
        }
      ]
    },
    {
      "cell_type": "markdown",
      "source": [
        "**Matrix Creation**\n"
      ],
      "metadata": {
        "id": "xOwWGT9r7ioX"
      }
    },
    {
      "cell_type": "code",
      "source": [
        "''' Method I: Using array and reshape to convert array into matrix '''\n",
        "print(np.array([5,6,8,45,12,52]).reshape(2,3))\n",
        "\n",
        "''' Method II: Using matrix function '''\n",
        "print(np.matrix([[1,2,3],[12,13,14]]))\n",
        "\n",
        "''' Method III: Using misc. functions '''\n",
        "print(np.eye(3))\n",
        "\n",
        "print(np.zeros((4,3)))\n",
        "\n",
        "print(np.ones((3,3),dtype = np.float64))\n"
      ],
      "metadata": {
        "colab": {
          "base_uri": "https://localhost:8080/"
        },
        "id": "gIuIQsxL7d_s",
        "outputId": "33036ac0-8385-4f8b-daa9-0b7901c4ad00"
      },
      "execution_count": 33,
      "outputs": [
        {
          "output_type": "stream",
          "name": "stdout",
          "text": [
            "[[ 5  6  8]\n",
            " [45 12 52]]\n",
            "[[ 1  2  3]\n",
            " [12 13 14]]\n",
            "[[1. 0. 0.]\n",
            " [0. 1. 0.]\n",
            " [0. 0. 1.]]\n",
            "[[0. 0. 0.]\n",
            " [0. 0. 0.]\n",
            " [0. 0. 0.]\n",
            " [0. 0. 0.]]\n",
            "[[1. 1. 1.]\n",
            " [1. 1. 1.]\n",
            " [1. 1. 1.]]\n"
          ]
        }
      ]
    },
    {
      "cell_type": "markdown",
      "source": [
        "Given two NumPy arrays arr1 = [25, 56, 12, 85, 34, 75] and arr2 = [42, 3, 86, 32, 856, 46], solve the following:\n",
        "\n",
        "Create a new NumPy array Narr with the shape equal to arr1 filled with random values.\n",
        "\n",
        "Permanently change the dtype of arr1 to complex.\n",
        "\n",
        "Transform arrays arr1 and arr2 into two matrices (arr1_mat and arr2_mat) of shape (2,3) and arrive at the solution of the following equation:"
      ],
      "metadata": {
        "id": "mwhn9mWV9fyi"
      }
    },
    {
      "cell_type": "code",
      "source": [
        "import numpy as np\n",
        "arr1 = np.array([25, 56, 12, 85, 34, 75])\n",
        "arr2 = np.array([42, 3, 86, 32, 856, 46])\n",
        "\n",
        "#solution 1\n",
        "Narr = np.random.rand(*arr1.shape)\n",
        "print(Narr)\n",
        "\n",
        "#solution 2\n",
        "arr1 = arr1.astype(complex)\n",
        "print(arr1)\n",
        "\n",
        "#solution\n",
        "arr1_mat = arr1.reshape(2, 3)\n",
        "arr2_mat = arr2.reshape(2, 3)\n",
        "result = np.matmul(arr1_mat, arr2_mat.T) #cross multiplication\n",
        "print(result)\n"
      ],
      "metadata": {
        "colab": {
          "base_uri": "https://localhost:8080/"
        },
        "id": "92dyBUDm72Bw",
        "outputId": "49c80c3b-6d51-4946-cf2b-83145ee4c8ef"
      },
      "execution_count": 40,
      "outputs": [
        {
          "output_type": "stream",
          "name": "stdout",
          "text": [
            "[0.67677535 0.88994219 0.17487111 0.54826396 0.38102523 0.82715026]\n",
            "[25.+0.j 56.+0.j 12.+0.j 85.+0.j 34.+0.j 75.+0.j]\n",
            "[[ 2250.+0.j 49288.+0.j]\n",
            " [10122.+0.j 35274.+0.j]]\n"
          ]
        }
      ]
    },
    {
      "cell_type": "code",
      "source": [
        "import numpy as np\n",
        "arr = np.arange(4)\n",
        "arr.reshape(2,2)\n",
        "print(arr.shape)\n",
        ""
      ],
      "metadata": {
        "colab": {
          "base_uri": "https://localhost:8080/"
        },
        "id": "HMqoVUiH-EyD",
        "outputId": "49bf7e33-3344-4a3d-e144-11a749ef0b82"
      },
      "execution_count": 41,
      "outputs": [
        {
          "output_type": "stream",
          "name": "stdout",
          "text": [
            "(4,)\n"
          ]
        }
      ]
    },
    {
      "cell_type": "code",
      "source": [
        "import numpy as np\n",
        "arr = np.arange(4).reshape(4,-1)\n",
        "print(arr.shape)"
      ],
      "metadata": {
        "colab": {
          "base_uri": "https://localhost:8080/"
        },
        "id": "c-K1PW_G_f22",
        "outputId": "fda07a8c-ab60-48f1-d280-18503e751bb2"
      },
      "execution_count": 43,
      "outputs": [
        {
          "output_type": "stream",
          "name": "stdout",
          "text": [
            "(4, 1)\n"
          ]
        }
      ]
    },
    {
      "cell_type": "code",
      "source": [
        "import numpy as np\n",
        "\n",
        "arr1 = np.ones(10)\n",
        "arr2 = np.arange(10, dtype = np.float64)\n",
        "arr3 = arr1 + arr2\n",
        "print(np.result_type(arr1))\n",
        "print(np.result_type(arr3))"
      ],
      "metadata": {
        "colab": {
          "base_uri": "https://localhost:8080/"
        },
        "id": "LzJeZDR5_qNR",
        "outputId": "9ecd1a4e-805d-4d6f-81ef-55bdc2ba7f0b"
      },
      "execution_count": 44,
      "outputs": [
        {
          "output_type": "stream",
          "name": "stdout",
          "text": [
            "float64\n",
            "float64\n"
          ]
        }
      ]
    },
    {
      "cell_type": "markdown",
      "source": [
        "# Vectorized operations"
      ],
      "metadata": {
        "id": "3kLVpiaR_z7H"
      }
    },
    {
      "cell_type": "code",
      "source": [
        "\n",
        "S_X = np.array([[2, 5, 6, 5],\n",
        "               [4, 8, 6, 5]])\n",
        "print(S_X)\n",
        "S_Y = np.array([[6, 7, 5, 9],\n",
        "               [7, 5, 6, 4]])\n",
        "print(S_Y)\n",
        "\n",
        "#Difference of each vector\n",
        "print(S_Y - S_X)\n",
        "\n",
        "#Less than 2\n",
        "print(S_X < 2)\n",
        "\n",
        "''' Method 2 '''\n",
        "#comparing matrix\n",
        "twos_mat = np.ones((2, 4)) * 2\n",
        "print(twos_mat)\n",
        "print(np.less(S_Y, twos_mat))\n",
        "\n",
        "\n"
      ],
      "metadata": {
        "colab": {
          "base_uri": "https://localhost:8080/"
        },
        "id": "1PMylxjf_rSO",
        "outputId": "65eb659b-ae85-4e13-c31a-d786f9f9c6ca"
      },
      "execution_count": 50,
      "outputs": [
        {
          "output_type": "stream",
          "name": "stdout",
          "text": [
            "[[2 5 6 5]\n",
            " [4 8 6 5]]\n",
            "[[6 7 5 9]\n",
            " [7 5 6 4]]\n",
            "[[ 4  2 -1  4]\n",
            " [ 3 -3  0 -1]]\n",
            "[[False False False False]\n",
            " [False False False False]]\n",
            "[[2. 2. 2. 2.]\n",
            " [2. 2. 2. 2.]]\n",
            "[[False False False False]\n",
            " [False False False False]]\n"
          ]
        }
      ]
    },
    {
      "cell_type": "markdown",
      "source": [
        "Solve the following:\n",
        "\n",
        "Create a 4 x 4 matrix and add values 4,5,6 above the parent diagonal.\n",
        "\n",
        "Given a Numpy array arr = np.arange(11), negate all the elements between 6 and 10.\n",
        "\n",
        "Given a matrix mat and an array arr, for each row of the matrix if elements of Column 1 are equal to the corresponding element of the array, then print the corresponding value of Column 2 of the matrix.\n"
      ],
      "metadata": {
        "id": "n8PHTrLMCzdY"
      }
    },
    {
      "cell_type": "code",
      "source": [
        "#solution 1\n",
        "matrix = np.zeros((4,4),dtype=int)\n",
        "matrix[0, 0] = 4\n",
        "matrix[1, 1] = 5\n",
        "matrix[2, 2] = 6\n",
        "print(matrix)\n"
      ],
      "metadata": {
        "colab": {
          "base_uri": "https://localhost:8080/"
        },
        "id": "jWcruR6-B9GP",
        "outputId": "4431293a-ced5-4e05-96e5-46e41ce1eba9"
      },
      "execution_count": 54,
      "outputs": [
        {
          "output_type": "stream",
          "name": "stdout",
          "text": [
            "[[4 0 0 0]\n",
            " [0 5 0 0]\n",
            " [0 0 6 0]\n",
            " [0 0 0 0]]\n"
          ]
        }
      ]
    },
    {
      "cell_type": "markdown",
      "source": [
        "Given a matrix mat and an array arr, for each row of the matrix if elements of Column 1 are equal to the corresponding element of the array, then print the corresponding value of Column 2 of the matrix."
      ],
      "metadata": {
        "id": "bBm2Z4sBGQ1G"
      }
    },
    {
      "cell_type": "code",
      "source": [
        "\n",
        "import numpy as np\n",
        "mat = np.array([['abc','A'],['def','B'],['ghi','C'],['jkl','D']])\n",
        "arr = np.array(['abc','dfe','ghi','kjl'])\n",
        "\n",
        "for i in range(len(arr)):\n",
        "    if mat[i, 0] == arr[i]:\n",
        "        print(mat[i, 1])\n"
      ],
      "metadata": {
        "colab": {
          "base_uri": "https://localhost:8080/"
        },
        "id": "52cZgprtGHY6",
        "outputId": "57fd0c63-05da-4184-fc3e-201236007c63"
      },
      "execution_count": 56,
      "outputs": [
        {
          "output_type": "stream",
          "name": "stdout",
          "text": [
            "A\n",
            "C\n"
          ]
        }
      ]
    },
    {
      "cell_type": "code",
      "source": [
        "#4. Given a matrix mat, sort it by the second column.\n",
        "mat = np.array([[1,21,3],[5,4,2],[56,12,4]])\n",
        "sorted_mat = mat[mat[:, 1].argsort()]\n",
        "print(\"Original matrix:\")\n",
        "print(mat)\n",
        "print(\"\\nSorted matrix by the second column:\")\n",
        "print(sorted_mat)"
      ],
      "metadata": {
        "colab": {
          "base_uri": "https://localhost:8080/"
        },
        "id": "vD0hJwtTG_ae",
        "outputId": "c37dd2a6-24ed-4471-ef99-ca78d556d0d5"
      },
      "execution_count": 60,
      "outputs": [
        {
          "output_type": "stream",
          "name": "stdout",
          "text": [
            "Original matrix:\n",
            "[[ 1  4  3]\n",
            " [ 5 12  2]\n",
            " [56 21  4]]\n",
            "\n",
            "Sorted matrix by the second column:\n",
            "[[[ 1  4  3]\n",
            "  [ 5 12  2]\n",
            "  [56 21  4]]]\n"
          ]
        }
      ]
    },
    {
      "cell_type": "code",
      "source": [
        "#Given an array arr, find the top 4 maximum values.\n",
        "import numpy as np\n",
        "arr = np.array([90, 14, 24, 13, 13, 590, 0, 45, 16, 50])\n",
        "indices = np.argpartition(arr, -4)[-4:]\n",
        "\n",
        "top_four = arr[indices]\n",
        "print(top_four)\n"
      ],
      "metadata": {
        "colab": {
          "base_uri": "https://localhost:8080/"
        },
        "id": "wUtwmCvUHLPj",
        "outputId": "5f5aae0a-2edd-465e-c87e-7f5e8a0fec75"
      },
      "execution_count": 62,
      "outputs": [
        {
          "output_type": "stream",
          "name": "stdout",
          "text": [
            "[ 45  50 590  90]\n"
          ]
        }
      ]
    },
    {
      "cell_type": "code",
      "source": [
        "#6. Find the nearest number from the given number in an array.\n",
        "arr = np.array([10,55,22,3,6,44,9,54])\n",
        "nearest_to = 50\n",
        "abs_diff = np.abs(arr - nearest_to)\n",
        "nearest_index = abs_diff.argmin()\n",
        "nearest_number = arr[nearest_index]\n",
        "\n",
        "nearest_number = arr[nearest_index]\n",
        "\n",
        "print(\"Array:\", arr)\n",
        "print(\"Nearest number to\", nearest_to, \"is:\", nearest_number)\n",
        ""
      ],
      "metadata": {
        "colab": {
          "base_uri": "https://localhost:8080/"
        },
        "id": "JxJSvfaZI-Sc",
        "outputId": "c18aa9c7-a72d-465e-d03a-1e7f5cfb71d2"
      },
      "execution_count": 65,
      "outputs": [
        {
          "output_type": "stream",
          "name": "stdout",
          "text": [
            "Array: [10 55 22  3  6 44  9 54]\n",
            "Nearest number to 50 is: 54\n"
          ]
        }
      ]
    }
  ]
}