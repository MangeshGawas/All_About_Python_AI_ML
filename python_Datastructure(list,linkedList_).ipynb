{
  "nbformat": 4,
  "nbformat_minor": 0,
  "metadata": {
    "colab": {
      "provenance": [],
      "authorship_tag": "ABX9TyOZRcQZd0y89h4CJvvGNViJ",
      "include_colab_link": true
    },
    "kernelspec": {
      "name": "python3",
      "display_name": "Python 3"
    },
    "language_info": {
      "name": "python"
    }
  },
  "cells": [
    {
      "cell_type": "markdown",
      "metadata": {
        "id": "view-in-github",
        "colab_type": "text"
      },
      "source": [
        "<a href=\"https://colab.research.google.com/github/MangeshGawas/All_About_Python_AI_ML/blob/main/python_Datastructure(list%2ClinkedList_).ipynb\" target=\"_parent\"><img src=\"https://colab.research.google.com/assets/colab-badge.svg\" alt=\"Open In Colab\"/></a>"
      ]
    },
    {
      "cell_type": "markdown",
      "source": [
        "# List\n"
      ],
      "metadata": {
        "id": "-uiuwaJN9sDi"
      }
    },
    {
      "cell_type": "code",
      "source": [
        "#Do not remove the below import statement\n",
        "import sys\n",
        "\n",
        "'''This function provides the capacity, size and space left in the list.\n",
        "You can invoke it to get the details of the list'''\n",
        "\n",
        "def list_details(lst):\n",
        "    #Number of elements that can be stored in the list\n",
        "    print(\"Capacity:\", (sys.getsizeof(lst)-36)//4)\n",
        "\n",
        "    #Number of elements in the list\n",
        "    print(\"Size:\", len(lst))\n",
        "\n",
        "    #Number of elements that can be accommodated in the space left\n",
        "    print(\"Space Left:\", ((sys.getsizeof(lst)-36) - len(lst*4))//4)\n",
        "\n",
        "    #formula changes based on the system architecture\n",
        "    #(size-36)/4 for 32 bit machines and\n",
        "    #(size-64)/8 for 64 bit machines\n",
        "\n",
        "    # 36, 64 - size of an empty list based on machine\n",
        "    # 4, 8 - size of a single element in the list based on machine\n",
        "\n",
        "marias_lst=[]\n",
        "print(\"Empty list created!!!\")\n",
        "print(\"List details:\")\n",
        "list_details(marias_lst)\n",
        "print(\"________________________\")\n",
        "marias_lst.append(\"Sugar\")\n",
        "print(\"Maria List after adding sugar:\")\n",
        "print(marias_lst)\n",
        "print(\"List details:\")\n",
        "list_details(marias_lst)\n",
        "\n",
        "marias_lst.append(\"Tea Bags\")\n",
        "marias_lst.append(\"Milk\")\n",
        "marias_lst.append(\"Biscuit\")\n",
        "\n",
        "print(marias_lst)\n",
        "\n",
        "#I need to add Salt at position 1\n",
        "marias_lst.insert(1,\"Salt\")\n",
        "print(marias_lst)\n",
        "print(\"List details:\")\n",
        "list_details(marias_lst)\n",
        "\n",
        "marias_lst.pop(1)\n",
        "print(marias_lst)\n",
        "print(\"List details:\")\n",
        "list_details(marias_lst)\n"
      ],
      "metadata": {
        "colab": {
          "base_uri": "https://localhost:8080/"
        },
        "id": "TKn1qKC49uL9",
        "outputId": "4eba9872-83b5-4d61-ac01-55936ea7b634"
      },
      "execution_count": null,
      "outputs": [
        {
          "output_type": "stream",
          "name": "stdout",
          "text": [
            "Empty list created!!!\n",
            "List details:\n",
            "Capacity: 5\n",
            "Size: 0\n",
            "Space Left: 5\n",
            "________________________\n",
            "Maria List after adding sugar:\n",
            "['Sugar']\n",
            "List details:\n",
            "Capacity: 13\n",
            "Size: 1\n",
            "Space Left: 12\n",
            "['Sugar', 'Tea Bags', 'Milk', 'Biscuit']\n",
            "['Sugar', 'Salt', 'Tea Bags', 'Milk', 'Biscuit']\n",
            "List details:\n",
            "Capacity: 21\n",
            "Size: 5\n",
            "Space Left: 16\n",
            "['Sugar', 'Tea Bags', 'Milk', 'Biscuit']\n",
            "List details:\n",
            "Capacity: 21\n",
            "Size: 4\n",
            "Space Left: 17\n"
          ]
        }
      ]
    },
    {
      "cell_type": "markdown",
      "source": [
        "# Problem Statement for self study\n"
      ],
      "metadata": {
        "id": "79hBuHlI-Qp0"
      }
    },
    {
      "cell_type": "code",
      "source": [
        "class Employee:\n",
        "    def __init__(self, name, emp_id, email_id):\n",
        "        self.__name=name\n",
        "        self.__emp_id=emp_id\n",
        "        self.__email_id=email_id\n",
        "\n",
        "    def get_name(self):\n",
        "        return self.__name\n",
        "\n",
        "    def get_emp_id(self):\n",
        "        return self.__emp_id\n",
        "\n",
        "    def get_email_id(self):\n",
        "        return self.__email_id\n",
        "\n",
        "class OrganizationDirectory:\n",
        "    def __init__(self,emp_list):\n",
        "        self.__emp_list=emp_list\n",
        "\n",
        "    def lookup(self,key_name):\n",
        "        result_list=[]\n",
        "        for emp in self.__emp_list:\n",
        "            if(key_name in emp.get_name()):\n",
        "                result_list.append(emp)\n",
        "        self.display(result_list)\n",
        "        return result_list\n",
        "\n",
        "    def display(self,result_list):\n",
        "        print(\"Search results:\")\n",
        "        for emp in result_list:\n",
        "            print(emp.get_name(),\" \", emp.get_emp_id(),\" \",emp.get_email_id())\n",
        "\n",
        "\n",
        "\n",
        "emp1=Employee(\"Kevin\",24089, \"Kevin_xyz@organization.com\")\n",
        "emp2=Employee(\"Jack\",56789,\"Jack_xyz@organization.com\")\n",
        "emp3=Employee(\"Jackson\",67895,\"Jackson_xyz@organization.com\")\n",
        "emp4=Employee(\"Henry Jack\",23456,\"Jacky_xyz@organization.com\")\n",
        "emp_list=[emp1,emp2,emp3,emp4]\n",
        "\n",
        "org_dir=OrganizationDirectory(emp_list)\n",
        "#Search for an employee\n",
        "org_dir.lookup(\"Kevin\")"
      ],
      "metadata": {
        "colab": {
          "base_uri": "https://localhost:8080/"
        },
        "id": "ZLL8tABaCQnT",
        "outputId": "30084388-9ea3-420f-d99e-421ed6aa53ca"
      },
      "execution_count": null,
      "outputs": [
        {
          "output_type": "stream",
          "name": "stdout",
          "text": [
            "Search results:\n",
            "Kevin   24089   Kevin_xyz@organization.com\n"
          ]
        },
        {
          "output_type": "execute_result",
          "data": {
            "text/plain": [
              "[<__main__.Employee at 0x7cc5d5042ef0>]"
            ]
          },
          "metadata": {},
          "execution_count": 10
        }
      ]
    },
    {
      "cell_type": "code",
      "source": [
        "#lex_auth_012742471863279616506\n",
        "\n",
        "def update_mark_list(mark_list, new_element, pos):\n",
        "    #Write your logic here\n",
        "    mark_list.insert(new_element,pos)\n",
        "    return mark_list\n",
        "\n",
        "def find_mark(mark_list,pos1,pos2):\n",
        "    '''Remove pass and write your logic here to return a list containing\n",
        "    the marks at pos1 and pos2 respectively.'''\n",
        "\n",
        "    print(mark_list[pos1])\n",
        "    print(mark_list[pos2])\n",
        "\n",
        "#Provide different values for the variables and test your program\n",
        "mark_list=[89,78,99,76,77,72,88,99]\n",
        "new_element=69\n",
        "pos=2\n",
        "pos1=5\n",
        "pos2=8\n",
        "print(update_mark_list(mark_list, new_element, pos))\n",
        "print(find_mark(mark_list, pos1, pos2))"
      ],
      "metadata": {
        "colab": {
          "base_uri": "https://localhost:8080/"
        },
        "id": "tUbyd-O1FAGa",
        "outputId": "85eb8e9c-7067-441e-e79f-b8eb83dbf378"
      },
      "execution_count": null,
      "outputs": [
        {
          "output_type": "stream",
          "name": "stdout",
          "text": [
            "[89, 78, 99, 76, 77, 72, 88, 99, 2]\n",
            "72\n",
            "2\n",
            "None\n"
          ]
        }
      ]
    },
    {
      "cell_type": "markdown",
      "source": [
        "### List using Array - Memory Usage\n",
        " ### problem in contiguos memory allocation lead to memory usage"
      ],
      "metadata": {
        "id": "bCpqMdmwIr-A"
      }
    },
    {
      "cell_type": "markdown",
      "source": [
        "# **List using Linked List**"
      ],
      "metadata": {
        "id": "xKRBp_6_Jvq2"
      }
    },
    {
      "cell_type": "code",
      "source": [
        "class Node:\n",
        "  def __init__(self,data):\n",
        "    self.__data = data\n",
        "    self.__next = None\n",
        "\n",
        "  def get_data(self):\n",
        "    return self.__data\n",
        "\n",
        "  def set_data(self,data):\n",
        "    self.__data = data\n",
        "\n",
        "  def get_next(self):\n",
        "    return self.__next\n",
        "\n",
        "  def set_next(self,next_node):\n",
        "    self.__next = next_node\n",
        "\n",
        "item_node = Node(\"Sugar\")\n",
        "print(item_node.get_data())\n",
        "print(item_node.get_next())\n"
      ],
      "metadata": {
        "colab": {
          "base_uri": "https://localhost:8080/"
        },
        "id": "Rw9VBQY7Itc3",
        "outputId": "b9bdbc7c-d4d7-458c-f5d6-e17de8e931af"
      },
      "execution_count": null,
      "outputs": [
        {
          "output_type": "stream",
          "name": "stdout",
          "text": [
            "Sugar\n",
            "None\n"
          ]
        }
      ]
    },
    {
      "cell_type": "markdown",
      "source": [
        "# List using Linked List - Creation\n",
        "# And Problem state counting the node"
      ],
      "metadata": {
        "id": "VUaN1EcbLTX_"
      }
    },
    {
      "cell_type": "code",
      "source": [
        "class Node:\n",
        "    def __init__(self, data):\n",
        "        self.__data = data\n",
        "        self.__next = None\n",
        "\n",
        "    def get_data(self):\n",
        "        return self.__data\n",
        "\n",
        "    def set_data(self, data):\n",
        "        self.__data = data\n",
        "\n",
        "    def get_next(self):\n",
        "        return self.__next\n",
        "\n",
        "    def set_next(self, next_node):\n",
        "        self.__next = next_node\n",
        "\n",
        "class LinkedList:\n",
        "    def __init__(self):\n",
        "        self.__head = None\n",
        "        self.__tail = None\n",
        "\n",
        "    def get_head(self):\n",
        "        return self.__head\n",
        "\n",
        "    def get_tail(self):\n",
        "        return self.__tail\n",
        "\n",
        "    def add(self, data):\n",
        "        new_node = Node(data)\n",
        "        if self.__head is None:\n",
        "            self.__head = self.__tail = new_node\n",
        "        else:\n",
        "            self.__tail.set_next(new_node)\n",
        "            self.__tail = new_node\n",
        "\n",
        "    def display(self):\n",
        "        temp = self.__head\n",
        "        while temp is not None:\n",
        "            print(temp.get_data())\n",
        "            temp = temp.get_next()\n",
        "\n",
        "    def __str__(self):\n",
        "        temp = self.__head\n",
        "        msg = []\n",
        "        while temp is not None:\n",
        "           msg.append(str(temp.get_data()))\n",
        "           temp = temp.get_next()\n",
        "        msg = \" \".join(msg)\n",
        "        msg = \"Linkedlist data(Head to Tail): \" + msg\n",
        "        return msg\n",
        "\n",
        "def count_nodes(biscuit_list):\n",
        "    count = 0\n",
        "    current_node = biscuit_list.get_head()\n",
        "\n",
        "    while current_node is not None:\n",
        "        count += 1\n",
        "        current_node = current_node.get_next()\n",
        "\n",
        "    return count\n",
        "\n",
        "# Testing the code\n",
        "biscuit_list = LinkedList()\n",
        "biscuit_list.add(\"Goodday\")\n",
        "biscuit_list.add(\"Bourbon\")\n",
        "biscuit_list.add(\"Hide&Seek\")\n",
        "biscuit_list.add(\"Nutrichoice\")\n",
        "biscuit_list.display()\n",
        "\n",
        "\n",
        "print(\"Count=\",count_nodes(biscuit_list))\n"
      ],
      "metadata": {
        "colab": {
          "base_uri": "https://localhost:8080/"
        },
        "id": "fEQg7S4TLAUj",
        "outputId": "6d6aff82-17fa-4f7f-b6d8-78ea8d04dcd3"
      },
      "execution_count": null,
      "outputs": [
        {
          "output_type": "stream",
          "name": "stdout",
          "text": [
            "Goodday\n",
            "Bourbon\n",
            "Hide&Seek\n",
            "Nutrichoice\n",
            "Count= 4\n"
          ]
        }
      ]
    },
    {
      "cell_type": "markdown",
      "source": [
        "Assignment on List of Strings - Level 1\n"
      ],
      "metadata": {
        "id": "-EDOrn5zNU-l"
      }
    },
    {
      "cell_type": "code",
      "source": [
        "def merge_list(list1, list2):\n",
        "    merged_data = \"\"\n",
        "    min_length = min(len(list1), len(list2))\n",
        "    print(min_length)\n",
        "    for i in range(min_length):\n",
        "        if list1[i] is None:\n",
        "            list1[i] = \"\"  # Convert None to empty string\n",
        "        if list2[-i-1] is None:\n",
        "            list2[-i-1] = \"\"  # Convert None to empty string\n",
        "        merged_data += list1[i] + list2[-i-1] + \" \"\n",
        "    # Handle the case when one list is longer than the other\n",
        "    if len(list1) > len(list2):\n",
        "        for i in range(min_length, len(list1)):\n",
        "            if list1[i] is None:\n",
        "                list1[i] = \"\"  # Convert None to empty string\n",
        "            merged_data += list1[i] + \" \"\n",
        "    elif len(list2) > len(list1):\n",
        "        for i in range(min_length, len(list2)):\n",
        "            if list2[-i-1] is None:\n",
        "                list2[-i-1] = \"\"  # Convert None to empty string\n",
        "            merged_data += list2[-i-1] + \" \"\n",
        "    return merged_data.strip()  # Remove trailing space\n",
        "\n",
        "# Test the function with the provided sample input\n",
        "list1 = ['T', 'sk', None, 'bl']\n",
        "list2 = ['ue', 'is', 'y', 'he']\n",
        "\n",
        "# list1 = ['T', 'sk', None, 'bl']\n",
        "# list2 = ['ue', 'is', 'y', 'he']\n",
        "merged_data = merge_list(list1, list2)\n",
        "print(merged_data)\n"
      ],
      "metadata": {
        "colab": {
          "base_uri": "https://localhost:8080/"
        },
        "id": "-jJjmFuxP2FX",
        "outputId": "92a57087-089b-4441-c37f-3bfce7b7823b"
      },
      "execution_count": null,
      "outputs": [
        {
          "output_type": "stream",
          "name": "stdout",
          "text": [
            "4\n",
            "The sky is blue\n"
          ]
        }
      ]
    },
    {
      "cell_type": "markdown",
      "source": [
        "Problem Statement\n",
        "Consider a Car class as given in the code. Write a Service class as given in the class diagram below which performs various activities on a list of cars.\n",
        "Assume that the car_list is sorted by year in ascending order.\n",
        "\n",
        "Method\tDescription\n",
        " __init__(car_list)\t:  Initializes the instance variable, car_list.\n",
        "\n",
        " find_cars_by_year(year)\t:Finds and returns the list of models of all the cars with   the year as the one passed as the argument. If there are   no cars, return None.\n",
        "\n",
        " add_cars(new_car_list) : The new_car_list should be added to the instance   variable car_list.\n",
        " The car_list should be still sorted such that the years are   in ascending order.\n",
        "\n",
        " The new_car_list should be added to the instance   variable car_list.\n",
        "\n",
        "\n",
        "  remove_cars_from_karnataka()\t:Finds and removes all cars with registration number   beginning with “KA” from the car_list.\n",
        "\n",
        "\n",
        "\n",
        "\n",
        "\n"
      ],
      "metadata": {
        "id": "-MnGOtOWMjEt"
      }
    },
    {
      "cell_type": "code",
      "source": [
        "class Car:\n",
        "    def __init__(self, model, year, registration_number):\n",
        "        self.__model = model  # Private attribute\n",
        "        self.__year = year    # Private attribute\n",
        "        self.__registration_number = registration_number  # Private attribute\n",
        "\n",
        "    def get_model(self):\n",
        "        return self.__model\n",
        "\n",
        "    def get_year(self):\n",
        "        return self.__year\n",
        "\n",
        "    def get_registration_number(self):\n",
        "        return self.__registration_number\n",
        "\n",
        "    def __str__(self):\n",
        "        return f\"{self.__model} {self.__registration_number} {self.__year}\"\n",
        "\n",
        "\n",
        "class Service:\n",
        "    def __init__(self, car_list):\n",
        "        self.__car_list = car_list\n",
        "\n",
        "    def find_cars_by_year(self, year):\n",
        "        found_cars = [car for car in self.__car_list if car.get_year() == year]\n",
        "        return [car.get_model() for car in found_cars] if found_cars else None\n",
        "\n",
        "    def add_cars(self, new_car_list):\n",
        "        self.__car_list.extend(new_car_list)\n",
        "        self.__car_list.sort(key=lambda car: car.get_year())\n",
        "\n",
        "    def remove_cars_from_karnataka(self):\n",
        "        self.__car_list = [car for car in self.__car_list if not car.get_registration_number().startswith(\"KA\")]\n",
        "\n",
        "    def get_car_list(self):\n",
        "        return self.__car_list\n",
        "\n",
        "# Testing the Service class\n",
        "\n",
        "# Create some cars\n",
        "car1 = Car(\"WagonR\", 2010, \"KA09 3056\")\n",
        "car2 = Car(\"Beat\", 2011, \"MH10 6776\")\n",
        "car3 = Car(\"Ritz\", 2013, \"KA12 9098\")\n",
        "car4 = Car(\"Polo\", 2013, \"GJ01 7854\")\n",
        "car5 = Car(\"Amaze\", 2014, \"KL07 4332\")\n",
        "\n",
        "# Initial car list\n",
        "car_list = [car1, car2, car3, car4, car5]\n",
        "\n",
        "# Create a Service instance\n",
        "service_instance = Service(car_list)\n",
        "\n",
        "# Test find_cars_by_year\n",
        "print(\"Testing find_cars_by_year:\")\n",
        "print(\"Cars in 2013:\", service_instance.find_cars_by_year(2013))  # Expected output: ['Ritz', 'Polo']\n",
        "\n",
        "# Test add_cars\n",
        "new_car_list = [Car(\"City\", 2012, \"KA05 2345\"), Car(\"Verna\", 2015, \"MH12 5678\")]\n",
        "service_instance.add_cars(new_car_list)\n",
        "print(\"\\nTesting add_cars:\")\n",
        "for car in service_instance.get_car_list():  # Accessing through getter method for encapsulation\n",
        "    print(car)  # Expected output: sorted list including new cars\n",
        "\n",
        "# Test remove_cars_from_karnataka\n",
        "service_instance.remove_cars_from_karnataka()\n",
        "print(\"\\nTesting remove_cars_from_karnataka:\")\n",
        "for car in service_instance.get_car_list():  # Accessing through getter method for encapsulation\n",
        "    print(car)  # Expected output: list excluding cars with registration number starting with \"KA\"\n"
      ],
      "metadata": {
        "id": "5-Ga7gwRQywq",
        "colab": {
          "base_uri": "https://localhost:8080/"
        },
        "outputId": "c471ef1c-ba88-440b-de19-831403a07f40"
      },
      "execution_count": 21,
      "outputs": [
        {
          "output_type": "stream",
          "name": "stdout",
          "text": [
            "Testing find_cars_by_year:\n",
            "Cars in 2013: ['Ritz', 'Polo']\n",
            "\n",
            "Testing add_cars:\n",
            "WagonR KA09 3056 2010\n",
            "Beat MH10 6776 2011\n",
            "City KA05 2345 2012\n",
            "Ritz KA12 9098 2013\n",
            "Polo GJ01 7854 2013\n",
            "Amaze KL07 4332 2014\n",
            "Verna MH12 5678 2015\n",
            "\n",
            "Testing remove_cars_from_karnataka:\n",
            "Beat MH10 6776 2011\n",
            "Polo GJ01 7854 2013\n",
            "Amaze KL07 4332 2014\n",
            "Verna MH12 5678 2015\n"
          ]
        }
      ]
    },
    {
      "cell_type": "code",
      "source": [
        "\n",
        "\n",
        "def check_double(list1, list2):\n",
        "    new_list = []\n",
        "    list1 = [x+x for x in list1]\n",
        "\n",
        "    # Iterate through list1\n",
        "    for x in list1:\n",
        "        if x in list2:\n",
        "            new_list.append(int(x / 2))\n",
        "\n",
        "    return new_list\n",
        "\n",
        "# Test your function\n",
        "list1 = [11, 8, 23, 7, 25, 15]\n",
        "list2 = [6, 33, 50, 31, 46, 78, 16, 34]\n",
        "\n",
        "print(check_double(list1, list2))\n"
      ],
      "metadata": {
        "colab": {
          "base_uri": "https://localhost:8080/"
        },
        "id": "iI0UPXg5NDs6",
        "outputId": "3db8b4d7-0ca2-4531-aa9e-5b0b020f4f48"
      },
      "execution_count": 42,
      "outputs": [
        {
          "output_type": "stream",
          "name": "stdout",
          "text": [
            "[8, 23, 25]\n"
          ]
        }
      ]
    },
    {
      "cell_type": "code",
      "source": [],
      "metadata": {
        "id": "kLeqGBBMY0uT"
      },
      "execution_count": null,
      "outputs": []
    }
  ]
}